{
 "cells": [
  {
   "cell_type": "markdown",
   "id": "1aa35e20e38adc34",
   "metadata": {},
   "source": [
    "### Analysis of cars purchased in Ukraine from 2013 to 2024"
   ]
  },
  {
   "cell_type": "markdown",
   "id": "813bbce813dcd5a1",
   "metadata": {},
   "source": [
    "Import libraries"
   ]
  },
  {
   "cell_type": "code",
   "id": "fbc121e30a2defb3",
   "metadata": {
    "ExecuteTime": {
     "end_time": "2025-02-11T13:15:29.833871Z",
     "start_time": "2025-02-11T13:15:29.715167Z"
    }
   },
   "source": [
    "import pandas as pd \n",
    "import numpy as np\n",
    "import json\n",
    "import requests\n",
    "import zipfile\n",
    "import os\n",
    "import matplotlib.pyplot as plt\n",
    "import seaborn as sns\n",
    "from PIL.ImageChops import duplicate\n",
    "from jedi.api.refactoring import inline\n",
    "\n",
    "%matplotlib inline"
   ],
   "outputs": [],
   "execution_count": 2
  },
  {
   "cell_type": "markdown",
   "id": "d244d9fc312c209",
   "metadata": {},
   "source": [
    "Import one of the datasets to view the data"
   ]
  },
  {
   "cell_type": "code",
   "execution_count": 8,
   "id": "35387f955d4dcf61",
   "metadata": {
    "ExecuteTime": {
     "end_time": "2025-02-11T12:25:09.818690Z",
     "start_time": "2025-02-11T12:24:51.462551Z"
    }
   },
   "outputs": [],
   "source": [
    "df = pd.read_csv('tz_opendata_z01012024_po01122024.csv', sep=';', low_memory=False)"
   ]
  },
  {
   "cell_type": "markdown",
   "id": "2bdb818538c4054",
   "metadata": {},
   "source": [
    "Let's look at the columns"
   ]
  },
  {
   "cell_type": "code",
   "execution_count": 9,
   "id": "25ae0f86",
   "metadata": {
    "ExecuteTime": {
     "end_time": "2025-02-11T12:25:09.844007Z",
     "start_time": "2025-02-11T12:25:09.834845Z"
    }
   },
   "outputs": [
    {
     "data": {
      "text/plain": [
       "Index(['PERSON', 'REG_ADDR_KOATUU', 'OPER_CODE', 'OPER_NAME', 'D_REG',\n",
       "       'DEP_CODE', 'DEP', 'BRAND', 'MODEL', 'VIN', 'MAKE_YEAR', 'COLOR',\n",
       "       'KIND', 'BODY', 'PURPOSE', 'FUEL', 'CAPACITY', 'OWN_WEIGHT',\n",
       "       'TOTAL_WEIGHT', 'N_REG_NEW'],\n",
       "      dtype='object')"
      ]
     },
     "execution_count": 9,
     "metadata": {},
     "output_type": "execute_result"
    }
   ],
   "source": [
    "df.columns"
   ]
  },
  {
   "cell_type": "code",
   "execution_count": 10,
   "id": "b1939840f16ffffe",
   "metadata": {
    "ExecuteTime": {
     "end_time": "2025-02-11T12:25:09.992650Z",
     "start_time": "2025-02-11T12:25:09.960614Z"
    }
   },
   "outputs": [
    {
     "data": {
      "text/html": [
       "<div>\n",
       "<style scoped>\n",
       "    .dataframe tbody tr th:only-of-type {\n",
       "        vertical-align: middle;\n",
       "    }\n",
       "\n",
       "    .dataframe tbody tr th {\n",
       "        vertical-align: top;\n",
       "    }\n",
       "\n",
       "    .dataframe thead th {\n",
       "        text-align: right;\n",
       "    }\n",
       "</style>\n",
       "<table border=\"1\" class=\"dataframe\">\n",
       "  <thead>\n",
       "    <tr style=\"text-align: right;\">\n",
       "      <th></th>\n",
       "      <th>PERSON</th>\n",
       "      <th>REG_ADDR_KOATUU</th>\n",
       "      <th>OPER_CODE</th>\n",
       "      <th>OPER_NAME</th>\n",
       "      <th>D_REG</th>\n",
       "      <th>DEP_CODE</th>\n",
       "      <th>DEP</th>\n",
       "      <th>BRAND</th>\n",
       "      <th>MODEL</th>\n",
       "      <th>VIN</th>\n",
       "      <th>MAKE_YEAR</th>\n",
       "      <th>COLOR</th>\n",
       "      <th>KIND</th>\n",
       "      <th>BODY</th>\n",
       "      <th>PURPOSE</th>\n",
       "      <th>FUEL</th>\n",
       "      <th>CAPACITY</th>\n",
       "      <th>OWN_WEIGHT</th>\n",
       "      <th>TOTAL_WEIGHT</th>\n",
       "      <th>N_REG_NEW</th>\n",
       "    </tr>\n",
       "  </thead>\n",
       "  <tbody>\n",
       "    <tr>\n",
       "      <th>0</th>\n",
       "      <td>J</td>\n",
       "      <td>2.310137e+09</td>\n",
       "      <td>18</td>\n",
       "      <td>ВНЕСЕННЯ КАРТКИ ВІДОМЧОЇ РЕЄСТРАЦІЇ ТЗ (ТІЛЬКИ...</td>\n",
       "      <td>01.01.24</td>\n",
       "      <td>12268</td>\n",
       "      <td>ТСЦ 2342</td>\n",
       "      <td>ATAMAN</td>\n",
       "      <td>D-09216</td>\n",
       "      <td>Y7BD09216PB000395</td>\n",
       "      <td>2023</td>\n",
       "      <td>БІЛИЙ</td>\n",
       "      <td>АВТОБУС</td>\n",
       "      <td>АВТОБУС ОПЕРАТИВНИЙ</td>\n",
       "      <td>СПЕЦІАЛІЗОВАНИЙ</td>\n",
       "      <td>ДИЗЕЛЬНЕ ПАЛИВО</td>\n",
       "      <td>5193.0</td>\n",
       "      <td>5840</td>\n",
       "      <td>8850</td>\n",
       "      <td>АР535Е</td>\n",
       "    </tr>\n",
       "    <tr>\n",
       "      <th>1</th>\n",
       "      <td>J</td>\n",
       "      <td>3.221810e+09</td>\n",
       "      <td>18</td>\n",
       "      <td>ВНЕСЕННЯ КАРТКИ ВІДОМЧОЇ РЕЄСТРАЦІЇ ТЗ (ТІЛЬКИ...</td>\n",
       "      <td>01.01.24</td>\n",
       "      <td>12290</td>\n",
       "      <td>ТСЦ 8041</td>\n",
       "      <td>TOYOTA</td>\n",
       "      <td>LAND CRUISER 200</td>\n",
       "      <td>JTMHV05J104045463</td>\n",
       "      <td>2010</td>\n",
       "      <td>ЧОРНИЙ</td>\n",
       "      <td>ЛЕГКОВИЙ</td>\n",
       "      <td>УНІВЕРСАЛ</td>\n",
       "      <td>СПЕЦІАЛІЗОВАНИЙ</td>\n",
       "      <td>ДИЗЕЛЬНЕ ПАЛИВО</td>\n",
       "      <td>4461.0</td>\n",
       "      <td>2715</td>\n",
       "      <td>3300</td>\n",
       "      <td>ТІ111G</td>\n",
       "    </tr>\n",
       "    <tr>\n",
       "      <th>2</th>\n",
       "      <td>P</td>\n",
       "      <td>5.123355e+09</td>\n",
       "      <td>284</td>\n",
       "      <td>НАЛЕЖНИЙ КОРИСТУВАЧ. ВИКЛЮЧЕННЯ ВІДОМОСТЕЙ</td>\n",
       "      <td>01.01.24</td>\n",
       "      <td>10000</td>\n",
       "      <td>OLD_ДДАІ МВС УКРАЇНИ</td>\n",
       "      <td>VOLKSWAGEN</td>\n",
       "      <td>GOLF</td>\n",
       "      <td>WVWZZZ1JZ3W331148</td>\n",
       "      <td>2002</td>\n",
       "      <td>СІРИЙ</td>\n",
       "      <td>ЛЕГКОВИЙ</td>\n",
       "      <td>ХЕТЧБЕК</td>\n",
       "      <td>ЗАГАЛЬНИЙ</td>\n",
       "      <td>БЕНЗИН</td>\n",
       "      <td>1390.0</td>\n",
       "      <td>1204</td>\n",
       "      <td>1710</td>\n",
       "      <td>ВН7469ОХ</td>\n",
       "    </tr>\n",
       "    <tr>\n",
       "      <th>3</th>\n",
       "      <td>P</td>\n",
       "      <td>8.038000e+09</td>\n",
       "      <td>284</td>\n",
       "      <td>НАЛЕЖНИЙ КОРИСТУВАЧ. ВИКЛЮЧЕННЯ ВІДОМОСТЕЙ</td>\n",
       "      <td>01.01.24</td>\n",
       "      <td>10000</td>\n",
       "      <td>OLD_ДДАІ МВС УКРАЇНИ</td>\n",
       "      <td>KIA</td>\n",
       "      <td>SPORTAGE</td>\n",
       "      <td>U5YPK813DGL012105</td>\n",
       "      <td>2015</td>\n",
       "      <td>БІЛИЙ</td>\n",
       "      <td>ЛЕГКОВИЙ</td>\n",
       "      <td>УНІВЕРСАЛ</td>\n",
       "      <td>ЗАГАЛЬНИЙ</td>\n",
       "      <td>ДИЗЕЛЬНЕ ПАЛИВО</td>\n",
       "      <td>1995.0</td>\n",
       "      <td>1690</td>\n",
       "      <td>2250</td>\n",
       "      <td>КА9443ЕМ</td>\n",
       "    </tr>\n",
       "    <tr>\n",
       "      <th>4</th>\n",
       "      <td>P</td>\n",
       "      <td>6.520386e+09</td>\n",
       "      <td>284</td>\n",
       "      <td>НАЛЕЖНИЙ КОРИСТУВАЧ. ВИКЛЮЧЕННЯ ВІДОМОСТЕЙ</td>\n",
       "      <td>01.01.24</td>\n",
       "      <td>10000</td>\n",
       "      <td>OLD_ДДАІ МВС УКРАЇНИ</td>\n",
       "      <td>ЗАЗ</td>\n",
       "      <td>110307</td>\n",
       "      <td>Y6D11030740066050</td>\n",
       "      <td>2004</td>\n",
       "      <td>СИНІЙ</td>\n",
       "      <td>ЛЕГКОВИЙ</td>\n",
       "      <td>ХЕТЧБЕК</td>\n",
       "      <td>ЗАГАЛЬНИЙ</td>\n",
       "      <td>БЕНЗИН</td>\n",
       "      <td>1197.0</td>\n",
       "      <td>790</td>\n",
       "      <td>1190</td>\n",
       "      <td>ВТ9040АХ</td>\n",
       "    </tr>\n",
       "  </tbody>\n",
       "</table>\n",
       "</div>"
      ],
      "text/plain": [
       "  PERSON  REG_ADDR_KOATUU  OPER_CODE  \\\n",
       "0      J     2.310137e+09         18   \n",
       "1      J     3.221810e+09         18   \n",
       "2      P     5.123355e+09        284   \n",
       "3      P     8.038000e+09        284   \n",
       "4      P     6.520386e+09        284   \n",
       "\n",
       "                                           OPER_NAME     D_REG  DEP_CODE  \\\n",
       "0  ВНЕСЕННЯ КАРТКИ ВІДОМЧОЇ РЕЄСТРАЦІЇ ТЗ (ТІЛЬКИ...  01.01.24     12268   \n",
       "1  ВНЕСЕННЯ КАРТКИ ВІДОМЧОЇ РЕЄСТРАЦІЇ ТЗ (ТІЛЬКИ...  01.01.24     12290   \n",
       "2         НАЛЕЖНИЙ КОРИСТУВАЧ. ВИКЛЮЧЕННЯ ВІДОМОСТЕЙ  01.01.24     10000   \n",
       "3         НАЛЕЖНИЙ КОРИСТУВАЧ. ВИКЛЮЧЕННЯ ВІДОМОСТЕЙ  01.01.24     10000   \n",
       "4         НАЛЕЖНИЙ КОРИСТУВАЧ. ВИКЛЮЧЕННЯ ВІДОМОСТЕЙ  01.01.24     10000   \n",
       "\n",
       "                    DEP       BRAND             MODEL                VIN  \\\n",
       "0              ТСЦ 2342      ATAMAN           D-09216  Y7BD09216PB000395   \n",
       "1              ТСЦ 8041      TOYOTA  LAND CRUISER 200  JTMHV05J104045463   \n",
       "2  OLD_ДДАІ МВС УКРАЇНИ  VOLKSWAGEN              GOLF  WVWZZZ1JZ3W331148   \n",
       "3  OLD_ДДАІ МВС УКРАЇНИ         KIA          SPORTAGE  U5YPK813DGL012105   \n",
       "4  OLD_ДДАІ МВС УКРАЇНИ         ЗАЗ            110307  Y6D11030740066050   \n",
       "\n",
       "   MAKE_YEAR   COLOR      KIND                 BODY          PURPOSE  \\\n",
       "0       2023   БІЛИЙ   АВТОБУС  АВТОБУС ОПЕРАТИВНИЙ  СПЕЦІАЛІЗОВАНИЙ   \n",
       "1       2010  ЧОРНИЙ  ЛЕГКОВИЙ            УНІВЕРСАЛ  СПЕЦІАЛІЗОВАНИЙ   \n",
       "2       2002   СІРИЙ  ЛЕГКОВИЙ              ХЕТЧБЕК        ЗАГАЛЬНИЙ   \n",
       "3       2015   БІЛИЙ  ЛЕГКОВИЙ            УНІВЕРСАЛ        ЗАГАЛЬНИЙ   \n",
       "4       2004   СИНІЙ  ЛЕГКОВИЙ              ХЕТЧБЕК        ЗАГАЛЬНИЙ   \n",
       "\n",
       "              FUEL  CAPACITY OWN_WEIGHT TOTAL_WEIGHT N_REG_NEW  \n",
       "0  ДИЗЕЛЬНЕ ПАЛИВО    5193.0       5840         8850    АР535Е  \n",
       "1  ДИЗЕЛЬНЕ ПАЛИВО    4461.0       2715         3300    ТІ111G  \n",
       "2           БЕНЗИН    1390.0       1204         1710  ВН7469ОХ  \n",
       "3  ДИЗЕЛЬНЕ ПАЛИВО    1995.0       1690         2250  КА9443ЕМ  \n",
       "4           БЕНЗИН    1197.0        790         1190  ВТ9040АХ  "
      ]
     },
     "execution_count": 10,
     "metadata": {},
     "output_type": "execute_result"
    }
   ],
   "source": [
    "df.head()"
   ]
  },
  {
   "cell_type": "code",
   "execution_count": 11,
   "id": "cfe6e58085dcdbe7",
   "metadata": {
    "ExecuteTime": {
     "end_time": "2025-02-11T12:25:10.204953Z",
     "start_time": "2025-02-11T12:25:10.156180Z"
    }
   },
   "outputs": [
    {
     "name": "stdout",
     "output_type": "stream",
     "text": [
      "<class 'pandas.core.frame.DataFrame'>\n",
      "RangeIndex: 2231400 entries, 0 to 2231399\n",
      "Data columns (total 20 columns):\n",
      " #   Column           Dtype  \n",
      "---  ------           -----  \n",
      " 0   PERSON           object \n",
      " 1   REG_ADDR_KOATUU  float64\n",
      " 2   OPER_CODE        int64  \n",
      " 3   OPER_NAME        object \n",
      " 4   D_REG            object \n",
      " 5   DEP_CODE         int64  \n",
      " 6   DEP              object \n",
      " 7   BRAND            object \n",
      " 8   MODEL            object \n",
      " 9   VIN              object \n",
      " 10  MAKE_YEAR        int64  \n",
      " 11  COLOR            object \n",
      " 12  KIND             object \n",
      " 13  BODY             object \n",
      " 14  PURPOSE          object \n",
      " 15  FUEL             object \n",
      " 16  CAPACITY         float64\n",
      " 17  OWN_WEIGHT       object \n",
      " 18  TOTAL_WEIGHT     object \n",
      " 19  N_REG_NEW        object \n",
      "dtypes: float64(2), int64(3), object(15)\n",
      "memory usage: 340.5+ MB\n"
     ]
    }
   ],
   "source": [
    "df.info()\n"
   ]
  },
  {
   "cell_type": "markdown",
   "id": "7d07e942ef9ec2ce",
   "metadata": {},
   "source": [
    "Let's see which persons are in the dataset list"
   ]
  },
  {
   "cell_type": "code",
   "execution_count": 12,
   "id": "a3d81ca58f804701",
   "metadata": {
    "ExecuteTime": {
     "end_time": "2025-02-11T12:25:10.601230Z",
     "start_time": "2025-02-11T12:25:10.459479Z"
    }
   },
   "outputs": [
    {
     "data": {
      "text/plain": [
       "PERSON\n",
       "P    2071961\n",
       "J     159439\n",
       "Name: count, dtype: int64"
      ]
     },
     "execution_count": 12,
     "metadata": {},
     "output_type": "execute_result"
    }
   ],
   "source": [
    "df['PERSON'].value_counts().head(10)"
   ]
  },
  {
   "cell_type": "markdown",
   "id": "b10f649f4199e50b",
   "metadata": {},
   "source": [
    "The data set includes both private individuals and entrepreneurs"
   ]
  },
  {
   "cell_type": "code",
   "execution_count": 13,
   "id": "c038cfcb29569634",
   "metadata": {
    "ExecuteTime": {
     "end_time": "2025-02-11T12:25:10.951139Z",
     "start_time": "2025-02-11T12:25:10.676077Z"
    }
   },
   "outputs": [],
   "source": [
    "df_prof=df[['PERSON', 'OPER_NAME','D_REG', 'BRAND', 'MODEL', \n",
    "            'MAKE_YEAR', 'COLOR', 'KIND', 'BODY', 'PURPOSE', 'FUEL']]"
   ]
  },
  {
   "cell_type": "markdown",
   "id": "93755906780458b7",
   "metadata": {},
   "source": [
    "We will leave only the data we need and make a report"
   ]
  },
  {
   "cell_type": "code",
   "execution_count": null,
   "id": "3d3a4b1181e3e924",
   "metadata": {
    "ExecuteTime": {
     "start_time": "2025-02-11T12:25:11.032544Z"
    },
    "jupyter": {
     "is_executing": true
    }
   },
   "outputs": [],
   "source": [
    "from ydata_profiling import ProfileReport\n",
    "ProfileReport(df_prof)"
   ]
  },
  {
   "cell_type": "markdown",
   "id": "a2b1bd375d74a55b",
   "metadata": {},
   "source": [
    "Let's download all data"
   ]
  },
  {
   "cell_type": "code",
   "execution_count": 11,
   "id": "b4bbed5647a3c025",
   "metadata": {
    "ExecuteTime": {
     "end_time": "2025-02-03T18:54:53.319822Z",
     "start_time": "2025-02-03T18:52:39.144606Z"
    }
   },
   "outputs": [
    {
     "name": "stdout",
     "output_type": "stream",
     "text": [
      "Downloaded: tz_opendata_z01012018_po01012019.zip\n",
      "Downloaded: tz_opendata_z01012017_po31122017.zip\n",
      "Downloaded: tz_opendata_z01012016_po31122016.zip\n",
      "Downloaded: tz_opendata_z01012015_po31122015.zip\n",
      "Downloaded: tz_opendata_z01012014_po31122014.zip\n",
      "Downloaded: tz_opendata_z01012013_po31122013.zip\n",
      "Downloaded: tz_opendata_z01012019_po01012020.zip\n",
      "Downloaded: tz_opendata_z01012020_po01012021.zip\n",
      "Downloaded: tz_opendata_z01012021_po01012022.zip\n",
      "Downloaded: reestrtz2022.zip\n",
      "Downloaded: reestrtz2022.zip\n",
      "Downloaded: reestrtz2022.zip\n",
      "Downloaded: reestrtz2023.zip\n",
      "Downloaded: reestrtz2024.zip\n",
      "Download complete.\n"
     ]
    }
   ],
   "source": [
    "if not os.path.exists('files'):\n",
    "    os.makedirs('files')\n",
    "\n",
    "with open('datapackage.json', 'r') as json_file:\n",
    "    data = json.load(json_file)\n",
    "\n",
    "for resource in data['resources']:\n",
    "    path = resource['path']\n",
    "    file_name = path.split(\"/\")[-1]\n",
    "\n",
    "    response = requests.get(path)\n",
    "\n",
    "    if response.status_code == 200:\n",
    "        # Save the file in the 'files' folder\n",
    "        with open(os.path.join('files', file_name), 'wb') as file:\n",
    "            file.write(response.content)\n",
    "        print(f\"Downloaded: {file_name}\")\n",
    "    else:\n",
    "        print(f\"Failed to download: {file_name}\")\n",
    "\n",
    "print(\"Download complete.\")"
   ]
  },
  {
   "cell_type": "code",
   "execution_count": 12,
   "id": "5dcf8460e6005b65",
   "metadata": {
    "ExecuteTime": {
     "end_time": "2025-02-03T18:56:26.889279Z",
     "start_time": "2025-02-03T18:55:18.851414Z"
    }
   },
   "outputs": [
    {
     "name": "stdout",
     "output_type": "stream",
     "text": [
      "Extracted: reestrtz2022.zip\n",
      "Deleted: reestrtz2022.zip\n",
      "Extracted: reestrtz2023.zip\n",
      "Deleted: reestrtz2023.zip\n",
      "Extracted: reestrtz2024.zip\n",
      "Deleted: reestrtz2024.zip\n",
      "Extracted: tz_opendata_z01012013_po31122013.zip\n",
      "Deleted: tz_opendata_z01012013_po31122013.zip\n",
      "Extracted: tz_opendata_z01012014_po31122014.zip\n",
      "Deleted: tz_opendata_z01012014_po31122014.zip\n",
      "Extracted: tz_opendata_z01012015_po31122015.zip\n",
      "Deleted: tz_opendata_z01012015_po31122015.zip\n",
      "Extracted: tz_opendata_z01012016_po31122016.zip\n",
      "Deleted: tz_opendata_z01012016_po31122016.zip\n",
      "Extracted: tz_opendata_z01012017_po31122017.zip\n",
      "Deleted: tz_opendata_z01012017_po31122017.zip\n",
      "Extracted: tz_opendata_z01012018_po01012019.zip\n",
      "Deleted: tz_opendata_z01012018_po01012019.zip\n",
      "Extracted: tz_opendata_z01012019_po01012020.zip\n",
      "Deleted: tz_opendata_z01012019_po01012020.zip\n",
      "Extracted: tz_opendata_z01012020_po01012021.zip\n",
      "Deleted: tz_opendata_z01012020_po01012021.zip\n",
      "Extracted: tz_opendata_z01012021_po01012022.zip\n",
      "Deleted: tz_opendata_z01012021_po01012022.zip\n",
      "Extraction of zip files complete.\n"
     ]
    }
   ],
   "source": [
    "# List files in the 'files' folder\n",
    "files = os.listdir('files')\n",
    "\n",
    "# Iterate through the files and unzip any zip archives\n",
    "for file_name in files:\n",
    "    if file_name.endswith('.zip'):\n",
    "        # Specify the path of the zip file\n",
    "        zip_path = os.path.join('files', file_name)\n",
    "\n",
    "        with zipfile.ZipFile(zip_path, 'r') as zip_ref:\n",
    "            # Extract files into the 'files' folder\n",
    "            zip_ref.extractall('files')\n",
    "            print(f\"Extracted: {file_name}\")\n",
    "\n",
    "        # Delete the zip file after extraction\n",
    "        os.remove(zip_path)\n",
    "        print(f\"Deleted: {file_name}\")\n",
    "\n",
    "print(\"Extraction of zip files complete.\")"
   ]
  },
  {
   "cell_type": "code",
   "id": "42b8a5e55d3721b8",
   "metadata": {
    "ExecuteTime": {
     "end_time": "2025-02-11T13:15:48.612072Z",
     "start_time": "2025-02-11T13:15:48.605202Z"
    }
   },
   "source": [
    "# Check files in the 'files' folder\n",
    "folder_path = os.getcwd()\n",
    "print(\"\\nFiles in the 'files' folder:\")\n",
    "files_folder_path = os.path.join(folder_path, 'files')\n",
    "for filename in os.listdir(files_folder_path):\n",
    "    print(filename)"
   ],
   "outputs": [
    {
     "name": "stdout",
     "output_type": "stream",
     "text": [
      "\n",
      "Files in the 'files' folder:\n",
      "tz_opendata_z01012013_po31122013.csv\n",
      "tz_opendata_z01012014_po31122014.csv\n",
      "tz_opendata_z01012015_po31122015.csv\n",
      "tz_opendata_z01012016_po31122016.csv\n",
      "tz_opendata_z01012017_po31122017.csv\n",
      "tz_opendata_z01012018_po01012019.csv\n",
      "tz_opendata_z01012019_po01012020.csv\n",
      "tz_opendata_z01012020_po01012021.csv\n",
      "tz_opendata_z01012021_po01012022.csv\n",
      "tz_opendata_z01012022_po01012023.csv\n",
      "tz_opendata_z01012023_po01012024.csv\n",
      "tz_opendata_z01012024_po01122024.csv\n"
     ]
    }
   ],
   "execution_count": 6
  },
  {
   "cell_type": "code",
   "id": "b7afba2e8bf024a0",
   "metadata": {
    "ExecuteTime": {
     "end_time": "2025-02-11T13:15:51.744125Z",
     "start_time": "2025-02-11T13:15:51.738138Z"
    }
   },
   "source": [
    "# change '.ßsv' file \n",
    "for filename in os.listdir(files_folder_path):\n",
    "    if not filename.endswith('.csv'):\n",
    "        # Rename the file to end with '.csv'\n",
    "        new_filename = os.path.splitext(filename)[0] + '.csv'\n",
    "        os.rename(os.path.join(files_folder_path, filename), os.path.join(files_folder_path, new_filename))\n",
    "        print('file ', filename, ' renamed')"
   ],
   "outputs": [],
   "execution_count": 7
  },
  {
   "cell_type": "code",
   "id": "f0c58b5050b3ab25",
   "metadata": {
    "ExecuteTime": {
     "end_time": "2025-02-11T13:22:53.241263Z",
     "start_time": "2025-02-11T13:15:53.685529Z"
    }
   },
   "source": [
    "#Create a df for all the data \n",
    "\n",
    "result_df = pd.DataFrame()\n",
    "\n",
    "for filename in os.listdir(files_folder_path):\n",
    "\n",
    "    if filename.endswith('.csv'):\n",
    "        file_path = os.path.join(files_folder_path, filename)    \n",
    "        df = pd.read_csv(file_path, sep = ';', low_memory=False)\n",
    "        df.columns = df.columns.str.upper()        \n",
    "        result_df = pd.concat([result_df, df], ignore_index=True)\n",
    "        print(filename, 'added')\n",
    "print('I\\'m done')"
   ],
   "outputs": [
    {
     "name": "stdout",
     "output_type": "stream",
     "text": [
      "tz_opendata_z01012013_po31122013.csv added\n",
      "tz_opendata_z01012014_po31122014.csv added\n",
      "tz_opendata_z01012015_po31122015.csv added\n",
      "tz_opendata_z01012016_po31122016.csv added\n",
      "tz_opendata_z01012017_po31122017.csv added\n",
      "tz_opendata_z01012018_po01012019.csv added\n",
      "tz_opendata_z01012019_po01012020.csv added\n",
      "tz_opendata_z01012020_po01012021.csv added\n",
      "tz_opendata_z01012021_po01012022.csv added\n",
      "tz_opendata_z01012022_po01012023.csv added\n",
      "tz_opendata_z01012023_po01012024.csv added\n",
      "tz_opendata_z01012024_po01122024.csv added\n",
      "I'm done\n"
     ]
    }
   ],
   "execution_count": 8
  },
  {
   "cell_type": "code",
   "id": "c3551a1439def7f2",
   "metadata": {
    "ExecuteTime": {
     "end_time": "2025-02-11T13:22:57.099778Z",
     "start_time": "2025-02-11T13:22:57.043767Z"
    }
   },
   "source": [
    "print(len(result_df))"
   ],
   "outputs": [
    {
     "name": "stdout",
     "output_type": "stream",
     "text": [
      "21223093\n"
     ]
    }
   ],
   "execution_count": 9
  },
  {
   "cell_type": "markdown",
   "id": "b6db53ad5b88b6a",
   "metadata": {},
   "source": [
    "Let's make a checkpoint"
   ]
  },
  {
   "cell_type": "code",
   "id": "384ef917bcaeb57e",
   "metadata": {
    "ExecuteTime": {
     "end_time": "2025-02-11T13:25:57.619202Z",
     "start_time": "2025-02-11T13:23:00.538698Z"
    }
   },
   "source": [
    "all_years = result_df.copy()"
   ],
   "outputs": [],
   "execution_count": 10
  },
  {
   "cell_type": "code",
   "id": "45c41a5820c9ba26",
   "metadata": {
    "ExecuteTime": {
     "end_time": "2025-02-11T13:26:35.088785Z",
     "start_time": "2025-02-11T13:26:00.669519Z"
    }
   },
   "source": [
    "#Optional: choose only relevant fields.  \n",
    "all_years = all_years[['PERSON', 'OPER_CODE', 'OPER_NAME', 'D_REG', 'BRAND', \n",
    "                       'MODEL', 'MAKE_YEAR', 'COLOR', 'KIND','BODY',\n",
    "                      'PURPOSE','FUEL', 'VIN']]\n",
    "\n",
    "#filter df \n",
    "all_years = all_years[(all_years['PERSON']=='P')&\n",
    "                      (all_years['KIND'] =='ЛЕГКОВИЙ')&\n",
    "                      (all_years['PURPOSE'] =='ЗАГАЛЬНИЙ')]"
   ],
   "outputs": [],
   "execution_count": 11
  },
  {
   "cell_type": "code",
   "id": "d1ba6ea04059f924",
   "metadata": {
    "ExecuteTime": {
     "end_time": "2025-02-11T13:28:06.268690Z",
     "start_time": "2025-02-11T13:27:13.143183Z"
    }
   },
   "source": [
    "\n",
    "#find neccessary codes \n",
    "all_years[all_years['OPER_NAME'].str.upper().str.contains('ПЕРВИННА')]['OPER_CODE'].unique()"
   ],
   "outputs": [
    {
     "data": {
      "text/plain": [
       "array([ 30, 100,  99, 172, 105], dtype=int64)"
      ]
     },
     "execution_count": 12,
     "metadata": {},
     "output_type": "execute_result"
    }
   ],
   "execution_count": 12
  },
  {
   "cell_type": "code",
   "id": "acc365d8b2feaf6",
   "metadata": {
    "ExecuteTime": {
     "end_time": "2025-02-11T13:28:35.192213Z",
     "start_time": "2025-02-11T13:28:15.500299Z"
    }
   },
   "source": [
    "all_years[['OPER_CODE', 'OPER_NAME']].value_counts().head(20) "
   ],
   "outputs": [
    {
     "data": {
      "text/plain": [
       "OPER_CODE  OPER_NAME                                                                                            \n",
       "315        ПЕРЕРЕЄСТРАЦІЯ ТЗ НА НОВ. ВЛАСН. ПО ДОГОВОРУ УКЛАДЕНОМУ В ТСЦ                                            3103544\n",
       "308        ПЕРЕРЕЄСТРАЦІЯ НА НОВОГО ВЛАСНИКА ЗА ДОГ. КУПIВЛI-ПРОДАЖУ (СГ)                                           1908283\n",
       "71         РЕЄСТРАЦІЯ ТЗ ПРИВЕЗЕНОГО З-ЗА КОРДОНУ ПО ПОСВІДЧЕННЮ МИТНИЦІ                                            1066966\n",
       "530        530 - ЗНЯТТЯ З ОБЛIКУ ДЛЯ РЕАЛIЗАЦIЇ                                                                     1013723\n",
       "315        315 - ПЕРЕРЕЄСТРАЦІЯ ТЗ НА НОВ. ВЛАСН. ПО ДОГОВОРУ УКЛАДЕНОМУ В ТСЦ                                       893516\n",
       "40         40 - ВТОРИННА РЕЄСТРАЦІЯ ТЗ, ПРИДБАНОГО В ТОРГОВЕЛЬНІЙ ОРГАНІЗАЦІЇ                                        878038\n",
       "100        ПЕРВИННА РЕЄСТРАЦIЯ Б/В ТЗ ПРИДБАНОГО В ТОРГІВЕЛЬНІЙ ОРГАНІЗАЦІЇ, ЯКИЙ ВВЕЗЕНО З-ЗА КОРДОНУ               547851\n",
       "400        400 - ПЕРЕРЕЄСТРАЦIЯ ПРИ ПЕРЕОБЛАДНАННI БЕЗ ЗАМIНИ НОМЕРНИХ АГРЕГ.                                        528449\n",
       "309        309 - ПЕРЕРЕЄСТРАЦІЯ ТЗ НА НОВОГО ВЛАСНИКА ЗА ДОВІДКОЙ-РАХУНОК                                            520506\n",
       "254        НАЛЕЖНИЙ КОРИСТУВАЧ. РЕЄСТРАЦІЯ                                                                           503094\n",
       "70         РЕЄСТРАЦIЯ Б/В ТЗ ПРИВЕЗЕНОГО З-ЗА КОРДОНУ ПО ВМД                                                         356912\n",
       "308        308 - ПЕРЕРЕЄСТРАЦІЯ НА НОВОГО ВЛАСНИКА ЗА ДОГ. КУПIВЛI-ПРОДАЖУ (СГ)                                      288929\n",
       "400        ПЕРЕРЕЄСТРАЦIЯ ПРИ ПЕРЕОБЛАДНАННI ДЛЯ РОБОТИ НА ГАЗОВОМУ ПАЛЬНОМУ                                         270272\n",
       "310        310 - ПЕРЕРЕЄСТРАЦІЯ НА НОВОГО ВЛАСНИКА ЗА ДОГ. КУПIВЛI-ПРОДАЖУ                                           262033\n",
       "314        ПЕРЕРЕЄСТРАЦІЯ ТЗ ІЗ УКЛАДАННЯМ ДОГОВОРУ КУПІВЛІ-ПРОДАЖУ ЧЕРЕЗ ЕЛЕКТРОННІ СЕРВІСИ ТА ЗОВНІШНІ РЕСУРСИ     194925\n",
       "105        ПЕРВИННА РЕЄСТРАЦІЯ НОВОГО ТЗ ПРИДБАНОГО В ТОРГІВЕЛЬНІЙ ОРГАНІЗАЦІЇ, ЯКИЙ ВВЕЗЕНО З-ЗА КОРДОНУ            181702\n",
       "172        172 - ПЕРВИННА РЕЄСТРАЦІЯ ЛЕГКОВИХ ТЗ, ЯКІ ВВЕЗЕНО З-ЗА КОРДОНУ                                           179663\n",
       "410        ПЕРЕРЕЄСТРАЦІЯ ПРИ ЗАМІНІ НОМЕРНОГО ЗНАКУ                                                                 177624\n",
       "70         РЕЄСТРАЦIЯ ТЗ ПРИВЕЗЕНОГО З-ЗА КОРДОНУ ПО ВМД                                                             172927\n",
       "400        400 - ПЕРЕРЕЄСТРАЦIЯ ПРИ ПЕРЕОБЛАДНАННI ДЛЯ РОБОТИ НА ГАЗОВОМУ ПАЛЬНОМУ                                   148750\n",
       "Name: count, dtype: int64"
      ]
     },
     "execution_count": 13,
     "metadata": {},
     "output_type": "execute_result"
    }
   ],
   "execution_count": 13
  },
  {
   "cell_type": "code",
   "id": "b65f617d0ab71f12",
   "metadata": {
    "ExecuteTime": {
     "end_time": "2025-02-11T13:28:41.384476Z",
     "start_time": "2025-02-11T13:28:37.569107Z"
    }
   },
   "source": [
    "#filter df to contain only ПЕРВИННА РЕЄСТРАЦІЯ (and 70, 71 )\n",
    "list_of_codes = [105, 100,  99,  30, 172, 70, 71]\n",
    "filtered_df = all_years[all_years['OPER_CODE'].isin(list_of_codes)]\n",
    "filtered_df.reset_index(inplace=True)"
   ],
   "outputs": [],
   "execution_count": 14
  },
  {
   "cell_type": "markdown",
   "id": "9bc5666862c0ba07",
   "metadata": {},
   "source": [
    "Data after filtering"
   ]
  },
  {
   "cell_type": "code",
   "id": "f6d40abce9a23461",
   "metadata": {
    "ExecuteTime": {
     "end_time": "2025-02-11T13:28:46.708063Z",
     "start_time": "2025-02-11T13:28:46.692702Z"
    }
   },
   "source": [
    "len(filtered_df) "
   ],
   "outputs": [
    {
     "data": {
      "text/plain": [
       "3084373"
      ]
     },
     "execution_count": 15,
     "metadata": {},
     "output_type": "execute_result"
    }
   ],
   "execution_count": 15
  },
  {
   "cell_type": "code",
   "id": "cd2b089f1063b585",
   "metadata": {
    "ExecuteTime": {
     "end_time": "2025-02-11T13:28:51.840054Z",
     "start_time": "2025-02-11T13:28:48.921903Z"
    }
   },
   "source": [
    "#check if unique\n",
    "filtered_df['VIN'].duplicated().sum() "
   ],
   "outputs": [
    {
     "data": {
      "text/plain": [
       "1546546"
      ]
     },
     "execution_count": 16,
     "metadata": {},
     "output_type": "execute_result"
    }
   ],
   "execution_count": 16
  },
  {
   "cell_type": "code",
   "id": "8d2b4198f9d9b2ad",
   "metadata": {
    "ExecuteTime": {
     "end_time": "2025-02-11T13:28:57.115232Z",
     "start_time": "2025-02-11T13:28:53.914897Z"
    }
   },
   "source": [
    "duplicates = filtered_df['VIN'].duplicated()\n",
    "filtered_df[duplicates].tail(6)"
   ],
   "outputs": [
    {
     "data": {
      "text/plain": [
       "            index PERSON  OPER_CODE  \\\n",
       "2930973  19871531      P        100   \n",
       "2944936  20056375      P        105   \n",
       "2945189  20056902      P        100   \n",
       "2993061  20502190      P        100   \n",
       "2993742  20503320      P        105   \n",
       "3022032  20684140      P        100   \n",
       "\n",
       "                                                 OPER_NAME     D_REG  \\\n",
       "2930973  ПЕРВИННА РЕЄСТРАЦIЯ Б/В ТЗ ПРИДБАНОГО В ТОРГІВ...  09.05.24   \n",
       "2944936  ПЕРВИННА РЕЄСТРАЦІЯ НОВОГО ТЗ ПРИДБАНОГО В ТОР...  29.05.24   \n",
       "2945189  ПЕРВИННА РЕЄСТРАЦIЯ Б/В ТЗ ПРИДБАНОГО В ТОРГІВ...  29.05.24   \n",
       "2993061  ПЕРВИННА РЕЄСТРАЦIЯ Б/В ТЗ ПРИДБАНОГО В ТОРГІВ...  31.07.24   \n",
       "2993742  ПЕРВИННА РЕЄСТРАЦІЯ НОВОГО ТЗ ПРИДБАНОГО В ТОР...  31.07.24   \n",
       "3022032  ПЕРВИННА РЕЄСТРАЦIЯ Б/В ТЗ ПРИДБАНОГО В ТОРГІВ...  28.08.24   \n",
       "\n",
       "              BRAND   MODEL  MAKE_YEAR     COLOR      KIND       BODY  \\\n",
       "2930973     RENAULT  MEGANE       2020     БІЛИЙ  ЛЕГКОВИЙ      СЕДАН   \n",
       "2944936       SKODA   KAROQ       2023     БІЛИЙ  ЛЕГКОВИЙ  УНІВЕРСАЛ   \n",
       "2945189     HYUNDAI  SONATA       2012     БІЛИЙ  ЛЕГКОВИЙ      СЕДАН   \n",
       "2993061      TOYOTA   PRIUS       2013     БІЛИЙ  ЛЕГКОВИЙ    ХЕТЧБЕК   \n",
       "2993742  MITSUBISHI     ASX       2021  ЧЕРВОНИЙ  ЛЕГКОВИЙ  УНІВЕРСАЛ   \n",
       "3022032      TOYOTA   CAMRY       2021    ЧОРНИЙ  ЛЕГКОВИЙ      СЕДАН   \n",
       "\n",
       "           PURPOSE                FUEL                VIN  \n",
       "2930973  ЗАГАЛЬНИЙ              БЕНЗИН  VF1RFB00966243831  \n",
       "2944936  ЗАГАЛЬНИЙ              БЕНЗИН  TMBJC7NU5PB200757  \n",
       "2945189  ЗАГАЛЬНИЙ              БЕНЗИН  KMHEC41BBCA427348  \n",
       "2993061  ЗАГАЛЬНИЙ  ЕЛЕКТРО АБО БЕНЗИН  JTDKN36U505629813  \n",
       "2993742  ЗАГАЛЬНИЙ              БЕНЗИН  JMBXTGA2WNU002213  \n",
       "3022032  ЗАГАЛЬНИЙ              БЕНЗИН  JTNB14HK203151273  "
      ],
      "text/html": [
       "<div>\n",
       "<style scoped>\n",
       "    .dataframe tbody tr th:only-of-type {\n",
       "        vertical-align: middle;\n",
       "    }\n",
       "\n",
       "    .dataframe tbody tr th {\n",
       "        vertical-align: top;\n",
       "    }\n",
       "\n",
       "    .dataframe thead th {\n",
       "        text-align: right;\n",
       "    }\n",
       "</style>\n",
       "<table border=\"1\" class=\"dataframe\">\n",
       "  <thead>\n",
       "    <tr style=\"text-align: right;\">\n",
       "      <th></th>\n",
       "      <th>index</th>\n",
       "      <th>PERSON</th>\n",
       "      <th>OPER_CODE</th>\n",
       "      <th>OPER_NAME</th>\n",
       "      <th>D_REG</th>\n",
       "      <th>BRAND</th>\n",
       "      <th>MODEL</th>\n",
       "      <th>MAKE_YEAR</th>\n",
       "      <th>COLOR</th>\n",
       "      <th>KIND</th>\n",
       "      <th>BODY</th>\n",
       "      <th>PURPOSE</th>\n",
       "      <th>FUEL</th>\n",
       "      <th>VIN</th>\n",
       "    </tr>\n",
       "  </thead>\n",
       "  <tbody>\n",
       "    <tr>\n",
       "      <th>2930973</th>\n",
       "      <td>19871531</td>\n",
       "      <td>P</td>\n",
       "      <td>100</td>\n",
       "      <td>ПЕРВИННА РЕЄСТРАЦIЯ Б/В ТЗ ПРИДБАНОГО В ТОРГІВ...</td>\n",
       "      <td>09.05.24</td>\n",
       "      <td>RENAULT</td>\n",
       "      <td>MEGANE</td>\n",
       "      <td>2020</td>\n",
       "      <td>БІЛИЙ</td>\n",
       "      <td>ЛЕГКОВИЙ</td>\n",
       "      <td>СЕДАН</td>\n",
       "      <td>ЗАГАЛЬНИЙ</td>\n",
       "      <td>БЕНЗИН</td>\n",
       "      <td>VF1RFB00966243831</td>\n",
       "    </tr>\n",
       "    <tr>\n",
       "      <th>2944936</th>\n",
       "      <td>20056375</td>\n",
       "      <td>P</td>\n",
       "      <td>105</td>\n",
       "      <td>ПЕРВИННА РЕЄСТРАЦІЯ НОВОГО ТЗ ПРИДБАНОГО В ТОР...</td>\n",
       "      <td>29.05.24</td>\n",
       "      <td>SKODA</td>\n",
       "      <td>KAROQ</td>\n",
       "      <td>2023</td>\n",
       "      <td>БІЛИЙ</td>\n",
       "      <td>ЛЕГКОВИЙ</td>\n",
       "      <td>УНІВЕРСАЛ</td>\n",
       "      <td>ЗАГАЛЬНИЙ</td>\n",
       "      <td>БЕНЗИН</td>\n",
       "      <td>TMBJC7NU5PB200757</td>\n",
       "    </tr>\n",
       "    <tr>\n",
       "      <th>2945189</th>\n",
       "      <td>20056902</td>\n",
       "      <td>P</td>\n",
       "      <td>100</td>\n",
       "      <td>ПЕРВИННА РЕЄСТРАЦIЯ Б/В ТЗ ПРИДБАНОГО В ТОРГІВ...</td>\n",
       "      <td>29.05.24</td>\n",
       "      <td>HYUNDAI</td>\n",
       "      <td>SONATA</td>\n",
       "      <td>2012</td>\n",
       "      <td>БІЛИЙ</td>\n",
       "      <td>ЛЕГКОВИЙ</td>\n",
       "      <td>СЕДАН</td>\n",
       "      <td>ЗАГАЛЬНИЙ</td>\n",
       "      <td>БЕНЗИН</td>\n",
       "      <td>KMHEC41BBCA427348</td>\n",
       "    </tr>\n",
       "    <tr>\n",
       "      <th>2993061</th>\n",
       "      <td>20502190</td>\n",
       "      <td>P</td>\n",
       "      <td>100</td>\n",
       "      <td>ПЕРВИННА РЕЄСТРАЦIЯ Б/В ТЗ ПРИДБАНОГО В ТОРГІВ...</td>\n",
       "      <td>31.07.24</td>\n",
       "      <td>TOYOTA</td>\n",
       "      <td>PRIUS</td>\n",
       "      <td>2013</td>\n",
       "      <td>БІЛИЙ</td>\n",
       "      <td>ЛЕГКОВИЙ</td>\n",
       "      <td>ХЕТЧБЕК</td>\n",
       "      <td>ЗАГАЛЬНИЙ</td>\n",
       "      <td>ЕЛЕКТРО АБО БЕНЗИН</td>\n",
       "      <td>JTDKN36U505629813</td>\n",
       "    </tr>\n",
       "    <tr>\n",
       "      <th>2993742</th>\n",
       "      <td>20503320</td>\n",
       "      <td>P</td>\n",
       "      <td>105</td>\n",
       "      <td>ПЕРВИННА РЕЄСТРАЦІЯ НОВОГО ТЗ ПРИДБАНОГО В ТОР...</td>\n",
       "      <td>31.07.24</td>\n",
       "      <td>MITSUBISHI</td>\n",
       "      <td>ASX</td>\n",
       "      <td>2021</td>\n",
       "      <td>ЧЕРВОНИЙ</td>\n",
       "      <td>ЛЕГКОВИЙ</td>\n",
       "      <td>УНІВЕРСАЛ</td>\n",
       "      <td>ЗАГАЛЬНИЙ</td>\n",
       "      <td>БЕНЗИН</td>\n",
       "      <td>JMBXTGA2WNU002213</td>\n",
       "    </tr>\n",
       "    <tr>\n",
       "      <th>3022032</th>\n",
       "      <td>20684140</td>\n",
       "      <td>P</td>\n",
       "      <td>100</td>\n",
       "      <td>ПЕРВИННА РЕЄСТРАЦIЯ Б/В ТЗ ПРИДБАНОГО В ТОРГІВ...</td>\n",
       "      <td>28.08.24</td>\n",
       "      <td>TOYOTA</td>\n",
       "      <td>CAMRY</td>\n",
       "      <td>2021</td>\n",
       "      <td>ЧОРНИЙ</td>\n",
       "      <td>ЛЕГКОВИЙ</td>\n",
       "      <td>СЕДАН</td>\n",
       "      <td>ЗАГАЛЬНИЙ</td>\n",
       "      <td>БЕНЗИН</td>\n",
       "      <td>JTNB14HK203151273</td>\n",
       "    </tr>\n",
       "  </tbody>\n",
       "</table>\n",
       "</div>"
      ]
     },
     "execution_count": 17,
     "metadata": {},
     "output_type": "execute_result"
    }
   ],
   "execution_count": 17
  },
  {
   "cell_type": "code",
   "id": "9f9ff9c5b9415471",
   "metadata": {
    "ExecuteTime": {
     "end_time": "2025-02-11T13:29:13.601319Z",
     "start_time": "2025-02-11T13:29:07.072300Z"
    }
   },
   "source": [
    "#without NAs \n",
    "filtered_df[~filtered_df['VIN'].isna()].duplicated().sum()\n"
   ],
   "outputs": [
    {
     "data": {
      "text/plain": [
       "0"
      ]
     },
     "execution_count": 18,
     "metadata": {},
     "output_type": "execute_result"
    }
   ],
   "execution_count": 18
  },
  {
   "cell_type": "code",
   "id": "6fe955e9aeaafa89",
   "metadata": {
    "ExecuteTime": {
     "end_time": "2025-02-11T13:29:40.813161Z",
     "start_time": "2025-02-11T13:29:15.492697Z"
    }
   },
   "source": [
    "firsts_df = filtered_df[['D_REG','BRAND', 'MODEL', 'MAKE_YEAR','COLOR','FUEL']]\n",
    "firsts_df.to_csv('first_reg_all_years.csv')\n",
    "firsts_df.head()"
   ],
   "outputs": [
    {
     "data": {
      "text/plain": [
       "        D_REG             BRAND      MODEL  MAKE_YEAR  COLOR            FUEL\n",
       "0  2013-06-08       FIAT  LINEA      LINEA       2013  СІРИЙ  БЕНЗИН АБО ГАЗ\n",
       "1  2013-01-19     HYUNDAI  IX35       IX35       2012  СИНІЙ          БЕНЗИН\n",
       "2  2013-02-05   HYUNDAI  ACCENT     ACCENT       2012  СІРИЙ          БЕНЗИН\n",
       "3  2013-01-18         ЗАЗ  SENS       SENS       2012  БІЛИЙ          БЕНЗИН\n",
       "4  2013-08-30  GEELY  EMGRAND 7  EMGRAND 7       2013  БІЛИЙ          БЕНЗИН"
      ],
      "text/html": [
       "<div>\n",
       "<style scoped>\n",
       "    .dataframe tbody tr th:only-of-type {\n",
       "        vertical-align: middle;\n",
       "    }\n",
       "\n",
       "    .dataframe tbody tr th {\n",
       "        vertical-align: top;\n",
       "    }\n",
       "\n",
       "    .dataframe thead th {\n",
       "        text-align: right;\n",
       "    }\n",
       "</style>\n",
       "<table border=\"1\" class=\"dataframe\">\n",
       "  <thead>\n",
       "    <tr style=\"text-align: right;\">\n",
       "      <th></th>\n",
       "      <th>D_REG</th>\n",
       "      <th>BRAND</th>\n",
       "      <th>MODEL</th>\n",
       "      <th>MAKE_YEAR</th>\n",
       "      <th>COLOR</th>\n",
       "      <th>FUEL</th>\n",
       "    </tr>\n",
       "  </thead>\n",
       "  <tbody>\n",
       "    <tr>\n",
       "      <th>0</th>\n",
       "      <td>2013-06-08</td>\n",
       "      <td>FIAT  LINEA</td>\n",
       "      <td>LINEA</td>\n",
       "      <td>2013</td>\n",
       "      <td>СІРИЙ</td>\n",
       "      <td>БЕНЗИН АБО ГАЗ</td>\n",
       "    </tr>\n",
       "    <tr>\n",
       "      <th>1</th>\n",
       "      <td>2013-01-19</td>\n",
       "      <td>HYUNDAI  IX35</td>\n",
       "      <td>IX35</td>\n",
       "      <td>2012</td>\n",
       "      <td>СИНІЙ</td>\n",
       "      <td>БЕНЗИН</td>\n",
       "    </tr>\n",
       "    <tr>\n",
       "      <th>2</th>\n",
       "      <td>2013-02-05</td>\n",
       "      <td>HYUNDAI  ACCENT</td>\n",
       "      <td>ACCENT</td>\n",
       "      <td>2012</td>\n",
       "      <td>СІРИЙ</td>\n",
       "      <td>БЕНЗИН</td>\n",
       "    </tr>\n",
       "    <tr>\n",
       "      <th>3</th>\n",
       "      <td>2013-01-18</td>\n",
       "      <td>ЗАЗ  SENS</td>\n",
       "      <td>SENS</td>\n",
       "      <td>2012</td>\n",
       "      <td>БІЛИЙ</td>\n",
       "      <td>БЕНЗИН</td>\n",
       "    </tr>\n",
       "    <tr>\n",
       "      <th>4</th>\n",
       "      <td>2013-08-30</td>\n",
       "      <td>GEELY  EMGRAND 7</td>\n",
       "      <td>EMGRAND 7</td>\n",
       "      <td>2013</td>\n",
       "      <td>БІЛИЙ</td>\n",
       "      <td>БЕНЗИН</td>\n",
       "    </tr>\n",
       "  </tbody>\n",
       "</table>\n",
       "</div>"
      ]
     },
     "execution_count": 19,
     "metadata": {},
     "output_type": "execute_result"
    }
   ],
   "execution_count": 19
  },
  {
   "cell_type": "code",
   "id": "d402c7342f3fff2f",
   "metadata": {
    "ExecuteTime": {
     "end_time": "2025-02-11T13:29:53.033466Z",
     "start_time": "2025-02-11T13:29:53.013467Z"
    }
   },
   "source": [
    "firsts_df.dtypes"
   ],
   "outputs": [
    {
     "data": {
      "text/plain": [
       "D_REG        object\n",
       "BRAND        object\n",
       "MODEL        object\n",
       "MAKE_YEAR     int64\n",
       "COLOR        object\n",
       "FUEL         object\n",
       "dtype: object"
      ]
     },
     "execution_count": 20,
     "metadata": {},
     "output_type": "execute_result"
    }
   ],
   "execution_count": 20
  },
  {
   "cell_type": "markdown",
   "id": "c33b881349b2fa3f",
   "metadata": {},
   "source": [
    "Data format check\n"
   ]
  },
  {
   "cell_type": "code",
   "id": "840a79b421a02a49",
   "metadata": {
    "ExecuteTime": {
     "end_time": "2025-02-11T13:30:33.000924Z",
     "start_time": "2025-02-11T13:30:06.995009Z"
    }
   },
   "source": [
    "years = [x+1 for x in range(2012,2024)]\n",
    "for year in years:\n",
    "    s = firsts_df[firsts_df['D_REG'].str.contains(str(year))]['D_REG']\n",
    "    print(s.max())"
   ],
   "outputs": [
    {
     "name": "stdout",
     "output_type": "stream",
     "text": [
      "2013-12-30\n",
      "2014-12-30\n",
      "2015-12-30\n",
      "2016-12-30\n",
      "2017-12-30\n",
      "2018-12-30\n",
      "31.10.2019\n",
      "31.12.2020\n",
      "31.12.2021\n",
      "31.12.2022\n",
      "nan\n",
      "nan\n"
     ]
    }
   ],
   "execution_count": 21
  },
  {
   "cell_type": "code",
   "id": "615de1c334517bbf",
   "metadata": {
    "ExecuteTime": {
     "end_time": "2025-02-11T13:30:45.890136Z",
     "start_time": "2025-02-11T13:30:36.324494Z"
    }
   },
   "source": [
    "years = [23, 24]\n",
    "for year in years:\n",
    "    s = firsts_df[firsts_df['D_REG'].str.contains(str(year), na=False)]['D_REG']\n",
    "    print(f\"Unique values for {year}:\")\n",
    "    print(s.unique())\n",
    "    print(\"-\" * 50)\n"
   ],
   "outputs": [
    {
     "name": "stdout",
     "output_type": "stream",
     "text": [
      "Unique values for 23:\n",
      "['2013-01-23' '2013-02-23' '2013-08-23' '2013-07-23' '2013-03-23'\n",
      " '2013-05-23' '2013-04-23' '2013-10-23' '2013-11-23' '2013-09-23'\n",
      " '2013-12-23' '2014-01-23' '2014-09-23' '2014-03-23' '2014-05-23'\n",
      " '2014-04-23' '2014-07-23' '2014-06-23' '2014-08-23' '2014-10-23'\n",
      " '2014-12-23' '2015-01-23' '2015-02-23' '2015-04-23' '2015-05-23'\n",
      " '2015-06-23' '2015-07-23' '2015-09-23' '2015-10-23' '2015-11-23'\n",
      " '2015-12-23' '2016-09-23' '2016-10-23' '2016-12-23' '2016-11-23'\n",
      " '2016-04-23' '2016-06-23' '2016-01-23' '2016-02-23' '2016-03-23'\n",
      " '2016-07-23' '2016-08-23' '2017-02-23' '2017-03-23' '2017-04-23'\n",
      " '2017-05-23' '2017-06-23' '2017-07-23' '2017-08-23' '2017-09-23'\n",
      " '2017-11-23' '2017-12-23' '2018-01-23' '2018-03-23' '2018-02-23'\n",
      " '2018-05-23' '2018-06-23' '2018-08-23' '2018-10-23' '2018-09-23'\n",
      " '2018-11-23' '2018-12-23' '23.02.2019' '23.10.2019' '23.08.2019'\n",
      " '23.12.2019' '23.11.2019' '23.01.2019' '23.04.2019' '23.07.2019'\n",
      " '23.03.2019' '23.05.2019' '23.06.2019' '23.07.2020' '23.01.2020'\n",
      " '23.02.2020' '23.04.2020' '23.05.2020' '23.06.2020' '23.09.2020'\n",
      " '23.10.2020' '23.08.2020' '23.12.2020' '23.07.2021' '23.09.2021'\n",
      " '23.11.2021' '23.02.2021' '23.01.2021' '23.03.2021' '23.04.2021'\n",
      " '23.06.2021' '23.05.2021' '23.10.2021' '23.12.2021' '23.02.2022'\n",
      " '23.05.2022' '23.04.2022' '23.03.2022' '23.01.2022' '23.06.2022'\n",
      " '23.07.2022' '23.09.2022' '23.12.2022' '23.08.2022' '23.11.2022'\n",
      " '23.10.2022' '20.10.23' '08.04.23' '13.09.23' '26.12.23' '25.08.23'\n",
      " '03.08.23' '09.02.23' '23.02.23' '04.01.23' '12.01.23' '03.01.23'\n",
      " '05.01.23' '10.01.23' '11.01.23' '06.01.23' '04.02.23' '18.01.23'\n",
      " '24.01.23' '13.01.23' '10.02.23' '08.02.23' '21.01.23' '11.02.23'\n",
      " '27.01.23' '21.02.23' '17.01.23' '25.02.23' '28.02.23' '08.03.23'\n",
      " '10.03.23' '07.02.23' '15.02.23' '22.02.23' '11.03.23' '03.02.23'\n",
      " '19.01.23' '31.01.23' '25.01.23' '26.01.23' '02.03.23' '20.01.23'\n",
      " '03.03.23' '18.02.23' '01.03.23' '04.03.23' '07.03.23' '17.02.23'\n",
      " '01.02.23' '22.01.23' '28.01.23' '24.02.23' '16.02.23' '04.04.23'\n",
      " '14.02.23' '21.03.23' '09.03.23' '14.03.23' '18.03.23' '22.03.23'\n",
      " '28.03.23' '29.03.23' '16.03.23' '25.03.23' '30.03.23' '31.03.23'\n",
      " '24.03.23' '02.02.23' '17.03.23' '14.01.23' '23.03.23' '07.04.23'\n",
      " '01.04.23' '06.04.23' '07.01.23' '12.04.23' '15.03.23' '12.03.23'\n",
      " '05.04.23' '15.04.23' '26.02.23' '29.01.23' '11.04.23' '19.03.23'\n",
      " '15.01.23' '19.02.23' '13.04.23' '26.03.23' '05.03.23' '05.02.23'\n",
      " '12.02.23' '11.07.23' '08.06.23' '27.07.23' '28.07.23' '29.07.23'\n",
      " '02.08.23' '07.06.23' '29.04.23' '16.05.23' '13.06.23' '16.06.23'\n",
      " '19.07.23' '15.06.23' '05.05.23' '07.07.23' '28.04.23' '04.07.23'\n",
      " '20.04.23' '02.06.23' '14.06.23' '20.05.23' '20.06.23' '13.07.23'\n",
      " '18.07.23' '26.05.23' '24.06.23' '27.06.23' '06.07.23' '09.05.23'\n",
      " '06.06.23' '03.05.23' '20.07.23' '29.06.23' '21.07.23' '24.05.23'\n",
      " '01.07.23' '05.07.23' '28.06.23' '02.05.23' '14.07.23' '22.07.23'\n",
      " '26.07.23' '18.04.23' '17.05.23' '09.06.23' '10.06.23' '30.06.23'\n",
      " '01.08.23' '27.05.23' '14.04.23' '25.04.23' '13.05.23' '16.07.23'\n",
      " '22.06.23' '25.07.23' '30.04.23' '06.05.23' '04.08.23' '19.05.23'\n",
      " '19.04.23' '08.08.23' '15.07.23' '23.06.23' '27.04.23' '30.05.23'\n",
      " '07.05.23' '21.06.23' '12.05.23' '21.04.23' '11.05.23' '05.08.23'\n",
      " '31.05.23' '18.06.23' '01.06.23' '04.05.23' '22.04.23' '23.05.23'\n",
      " '25.05.23' '17.06.23' '14.05.23' '09.07.23' '09.08.23' '11.06.23'\n",
      " '25.06.23' '26.09.23' '17.08.23' '31.08.23' '08.09.23' '09.09.23'\n",
      " '29.09.23' '04.10.23' '30.09.23' '11.08.23' '26.08.23' '30.08.23'\n",
      " '12.08.23' '02.09.23' '15.08.23' '07.09.23' '16.08.23' '28.05.23'\n",
      " '21.09.23' '10.08.23' '18.08.23' '08.07.23' '22.08.23' '06.09.23'\n",
      " '14.09.23' '16.09.23' '20.09.23' '28.09.23' '06.10.23' '03.06.23'\n",
      " '19.09.23' '05.10.23' '15.09.23' '26.04.23' '03.10.23' '19.08.23'\n",
      " '10.09.23' '23.08.23' '21.05.23' '24.08.23' '29.08.23' '23.09.23'\n",
      " '01.09.23' '17.09.23' '22.09.23' '10.10.23' '11.10.23' '27.09.23'\n",
      " '12.10.23' '14.10.23' '10.05.23' '13.10.23' '02.07.23' '12.09.23'\n",
      " '05.09.23' '04.06.23' '27.08.23' '08.10.23' '17.10.23' '18.10.23'\n",
      " '13.08.23' '01.10.23' '19.10.23' '12.07.23' '23.04.23' '07.10.23'\n",
      " '03.09.23' '18.05.23' '26.10.23' '15.10.23' '24.09.23' '20.08.23'\n",
      " '23.07.23' '14.11.23' '30.07.23' '07.11.23' '30.11.23' '21.12.23'\n",
      " '28.11.23' '24.11.23' '13.12.23' '14.12.23' '25.10.23' '08.12.23'\n",
      " '27.12.23' '07.12.23' '23.12.23' '24.12.23' '30.12.23' '09.12.23'\n",
      " '01.12.23' '22.12.23' '23.11.23' '04.11.23' '02.11.23' '10.11.23'\n",
      " '16.12.23' '16.11.23' '24.10.23' '21.11.23' '02.12.23' '12.12.23'\n",
      " '29.12.23' '01.11.23' '19.12.23' '31.10.23' '28.12.23' '20.12.23'\n",
      " '29.11.23' '11.11.23' '05.12.23' '17.11.23' '08.11.23' '26.11.23'\n",
      " '15.12.23' '03.11.23' '12.11.23' '28.10.23' '15.11.23' '05.11.23'\n",
      " '18.11.23' '27.10.23' '22.11.23' '21.10.23' '09.11.23' '10.12.23'\n",
      " '03.12.23' '17.12.23' '06.12.23' '29.10.23' '22.10.23' '25.11.23'\n",
      " '19.11.23' '31.12.23' '06.08.23' '09.04.23' '16.04.23' '31.07.23'\n",
      " '08.01.23' '02.04.23' '01.01.23' '23.01.24' '23.02.24' '23.03.24'\n",
      " '23.04.24' '23.05.24' '23.06.24' '23.07.24' '23.08.24' '23.10.24'\n",
      " '23.11.24']\n",
      "--------------------------------------------------\n",
      "Unique values for 24:\n",
      "['2013-04-24' '2013-07-24' '2013-01-24' '2013-05-24' '2013-02-24'\n",
      " '2013-09-24' '2013-06-24' '2013-08-24' '2013-10-24' '2013-11-24'\n",
      " '2013-12-24' '2013-03-24' '2014-01-24' '2014-05-24' '2014-02-24'\n",
      " '2014-03-24' '2014-04-24' '2014-06-24' '2014-07-24' '2014-10-24'\n",
      " '2014-08-24' '2014-09-24' '2014-12-24' '2014-11-24' '2015-01-24'\n",
      " '2015-02-24' '2015-03-24' '2015-04-24' '2015-05-24' '2015-06-24'\n",
      " '2015-07-24' '2015-09-24' '2015-10-24' '2015-11-24' '2015-12-24'\n",
      " '2016-09-24' '2016-10-24' '2016-11-24' '2016-12-24' '2016-02-24'\n",
      " '2016-01-24' '2016-06-24' '2016-03-24' '2016-04-24' '2016-05-24'\n",
      " '2016-07-24' '2017-01-24' '2017-02-24' '2017-03-24' '2017-05-24'\n",
      " '2017-06-24' '2017-09-24' '2017-10-24' '2017-11-24' '2017-12-24'\n",
      " '2018-01-24' '2018-02-24' '2018-03-24' '2018-04-24' '2018-05-24'\n",
      " '2018-06-24' '2018-07-24' '2018-10-24' '2018-11-24' '24.01.2019'\n",
      " '24.12.2019' '24.05.2019' '24.04.2019' '24.09.2019' '24.07.2019'\n",
      " '24.10.2019' '24.02.2019' '24.11.2019' '24.03.2019' '24.01.2020'\n",
      " '24.03.2020' '24.06.2020' '24.04.2020' '24.07.2020' '24.09.2020'\n",
      " '24.10.2020' '24.12.2020' '24.11.2020' '24.05.2020' '24.06.2021'\n",
      " '24.09.2021' '24.07.2021' '24.11.2021' '24.02.2021' '24.03.2021'\n",
      " '24.01.2021' '24.04.2021' '24.10.2021' '24.12.2021' '24.02.2022'\n",
      " '24.05.2022' '24.03.2022' '24.06.2022' '24.07.2022' '24.12.2022'\n",
      " '24.08.2022' '24.11.2022' '24.09.2022' '24.01.23' '24.02.23' '24.03.23'\n",
      " '24.06.23' '24.05.23' '24.08.23' '24.09.23' '24.11.23' '24.12.23'\n",
      " '24.10.23' '02.01.24' '03.01.24' '04.01.24' '05.01.24' '06.01.24'\n",
      " '07.01.24' '09.01.24' '10.01.24' '11.01.24' '12.01.24' '13.01.24'\n",
      " '14.01.24' '16.01.24' '17.01.24' '18.01.24' '19.01.24' '20.01.24'\n",
      " '21.01.24' '23.01.24' '24.01.24' '25.01.24' '26.01.24' '27.01.24'\n",
      " '28.01.24' '30.01.24' '31.01.24' '01.02.24' '02.02.24' '03.02.24'\n",
      " '04.02.24' '06.02.24' '07.02.24' '08.02.24' '09.02.24' '10.02.24'\n",
      " '11.02.24' '13.02.24' '14.02.24' '15.02.24' '16.02.24' '17.02.24'\n",
      " '18.02.24' '20.02.24' '21.02.24' '22.02.24' '23.02.24' '24.02.24'\n",
      " '25.02.24' '27.02.24' '28.02.24' '29.02.24' '01.03.24' '02.03.24'\n",
      " '03.03.24' '05.03.24' '06.03.24' '07.03.24' '08.03.24' '09.03.24'\n",
      " '10.03.24' '12.03.24' '13.03.24' '14.03.24' '15.03.24' '16.03.24'\n",
      " '17.03.24' '19.03.24' '20.03.24' '21.03.24' '22.03.24' '23.03.24'\n",
      " '24.03.24' '26.03.24' '27.03.24' '28.03.24' '29.03.24' '30.03.24'\n",
      " '31.03.24' '02.04.24' '03.04.24' '04.04.24' '05.04.24' '06.04.24'\n",
      " '07.04.24' '09.04.24' '10.04.24' '11.04.24' '12.04.24' '13.04.24'\n",
      " '14.04.24' '16.04.24' '17.04.24' '18.04.24' '19.04.24' '20.04.24'\n",
      " '21.04.24' '23.04.24' '24.04.24' '25.04.24' '26.04.24' '27.04.24'\n",
      " '28.04.24' '30.04.24' '01.05.24' '02.05.24' '03.05.24' '04.05.24'\n",
      " '05.05.24' '07.05.24' '08.05.24' '09.05.24' '10.05.24' '11.05.24'\n",
      " '12.05.24' '14.05.24' '15.05.24' '16.05.24' '17.05.24' '18.05.24'\n",
      " '19.05.24' '21.05.24' '22.05.24' '23.05.24' '24.05.24' '25.05.24'\n",
      " '26.05.24' '28.05.24' '29.05.24' '30.05.24' '31.05.24' '01.06.24'\n",
      " '02.06.24' '04.06.24' '05.06.24' '06.06.24' '07.06.24' '08.06.24'\n",
      " '09.06.24' '11.06.24' '12.06.24' '13.06.24' '14.06.24' '15.06.24'\n",
      " '16.06.24' '18.06.24' '19.06.24' '20.06.24' '21.06.24' '22.06.24'\n",
      " '23.06.24' '25.06.24' '26.06.24' '27.06.24' '28.06.24' '29.06.24'\n",
      " '30.06.24' '02.07.24' '03.07.24' '04.07.24' '05.07.24' '06.07.24'\n",
      " '07.07.24' '09.07.24' '10.07.24' '11.07.24' '12.07.24' '13.07.24'\n",
      " '14.07.24' '16.07.24' '17.07.24' '18.07.24' '19.07.24' '20.07.24'\n",
      " '21.07.24' '23.07.24' '24.07.24' '25.07.24' '26.07.24' '27.07.24'\n",
      " '28.07.24' '30.07.24' '31.07.24' '01.08.24' '02.08.24' '03.08.24'\n",
      " '04.08.24' '06.08.24' '07.08.24' '08.08.24' '09.08.24' '10.08.24'\n",
      " '11.08.24' '13.08.24' '14.08.24' '15.08.24' '16.08.24' '17.08.24'\n",
      " '18.08.24' '20.08.24' '21.08.24' '22.08.24' '23.08.24' '24.08.24'\n",
      " '25.08.24' '27.08.24' '28.08.24' '29.08.24' '30.08.24' '31.08.24'\n",
      " '01.09.24' '03.09.24' '04.09.24' '05.09.24' '06.09.24' '07.09.24'\n",
      " '08.09.24' '10.09.24' '11.09.24' '12.09.24' '13.09.24' '14.09.24'\n",
      " '15.09.24' '17.09.24' '18.09.24' '19.09.24' '20.09.24' '21.09.24'\n",
      " '22.09.24' '24.09.24' '25.09.24' '26.09.24' '27.09.24' '28.09.24'\n",
      " '29.09.24' '30.09.24' '01.10.24' '02.10.24' '03.10.24' '04.10.24'\n",
      " '05.10.24' '06.10.24' '07.10.24' '08.10.24' '09.10.24' '10.10.24'\n",
      " '11.10.24' '12.10.24' '13.10.24' '15.10.24' '16.10.24' '17.10.24'\n",
      " '18.10.24' '19.10.24' '20.10.24' '22.10.24' '23.10.24' '24.10.24'\n",
      " '25.10.24' '26.10.24' '27.10.24' '29.10.24' '30.10.24' '31.10.24'\n",
      " '01.11.24' '02.11.24' '03.11.24' '05.11.24' '06.11.24' '07.11.24'\n",
      " '08.11.24' '09.11.24' '10.11.24' '12.11.24' '13.11.24' '14.11.24'\n",
      " '15.11.24' '16.11.24' '17.11.24' '18.11.24' '19.11.24' '20.11.24'\n",
      " '21.11.24' '22.11.24' '23.11.24' '24.11.24' '26.11.24' '27.11.24'\n",
      " '28.11.24' '29.11.24' '30.11.24']\n",
      "--------------------------------------------------\n"
     ]
    }
   ],
   "execution_count": 22
  },
  {
   "cell_type": "markdown",
   "id": "91224e3a958272be",
   "metadata": {},
   "source": [
    "Convert date format to datetime"
   ]
  },
  {
   "cell_type": "code",
   "id": "4c2cf211cd95ac4b",
   "metadata": {
    "ExecuteTime": {
     "end_time": "2025-02-11T13:45:20.855958Z",
     "start_time": "2025-02-11T13:31:29.860881Z"
    }
   },
   "source": [
    "#converting all the dates. It takes a while. \n",
    "def convert_date(date_str):\n",
    "    if '-' in date_str:\n",
    "        # Dates from 2013 to 2018 are in the format '2013-12-30'\n",
    "        return pd.to_datetime(date_str, format='%Y-%m-%d')\n",
    "    elif len(date_str) == 10:\n",
    "        # Dates from 2019 to 2022 are in the format '31.10.2019'\n",
    "        return pd.to_datetime(date_str, format='%d.%m.%Y')\n",
    "    else:\n",
    "        # Dates from 2023 to 2024 are in the format '20.10.23'\n",
    "        return pd.to_datetime(date_str, format='%d.%m.%y')\n",
    "\n",
    "# Apply the function to the 'D_REG' column\n",
    "firsts_df['D_REG'] = firsts_df['D_REG'].apply(convert_date)"
   ],
   "outputs": [
    {
     "name": "stderr",
     "output_type": "stream",
     "text": [
      "C:\\Users\\HP\\AppData\\Local\\Temp\\ipykernel_26628\\3318956838.py:14: SettingWithCopyWarning: \n",
      "A value is trying to be set on a copy of a slice from a DataFrame.\n",
      "Try using .loc[row_indexer,col_indexer] = value instead\n",
      "\n",
      "See the caveats in the documentation: https://pandas.pydata.org/pandas-docs/stable/user_guide/indexing.html#returning-a-view-versus-a-copy\n",
      "  firsts_df['D_REG'] = firsts_df['D_REG'].apply(convert_date)\n"
     ]
    }
   ],
   "execution_count": 23
  },
  {
   "cell_type": "code",
   "id": "cd0a1ea6b0b77709",
   "metadata": {
    "ExecuteTime": {
     "end_time": "2025-02-11T13:45:32.109293Z",
     "start_time": "2025-02-11T13:45:32.097708Z"
    }
   },
   "source": [
    "firsts_df.dtypes"
   ],
   "outputs": [
    {
     "data": {
      "text/plain": [
       "D_REG        datetime64[ns]\n",
       "BRAND                object\n",
       "MODEL                object\n",
       "MAKE_YEAR             int64\n",
       "COLOR                object\n",
       "FUEL                 object\n",
       "dtype: object"
      ]
     },
     "execution_count": 24,
     "metadata": {},
     "output_type": "execute_result"
    }
   ],
   "execution_count": 24
  },
  {
   "cell_type": "code",
   "id": "94709d27cfc5283c",
   "metadata": {
    "ExecuteTime": {
     "end_time": "2025-02-11T13:45:34.899306Z",
     "start_time": "2025-02-11T13:45:34.688347Z"
    }
   },
   "source": [
    "frsts = firsts_df.copy()\n",
    "frsts.head()"
   ],
   "outputs": [
    {
     "data": {
      "text/plain": [
       "       D_REG             BRAND      MODEL  MAKE_YEAR  COLOR            FUEL\n",
       "0 2013-06-08       FIAT  LINEA      LINEA       2013  СІРИЙ  БЕНЗИН АБО ГАЗ\n",
       "1 2013-01-19     HYUNDAI  IX35       IX35       2012  СИНІЙ          БЕНЗИН\n",
       "2 2013-02-05   HYUNDAI  ACCENT     ACCENT       2012  СІРИЙ          БЕНЗИН\n",
       "3 2013-01-18         ЗАЗ  SENS       SENS       2012  БІЛИЙ          БЕНЗИН\n",
       "4 2013-08-30  GEELY  EMGRAND 7  EMGRAND 7       2013  БІЛИЙ          БЕНЗИН"
      ],
      "text/html": [
       "<div>\n",
       "<style scoped>\n",
       "    .dataframe tbody tr th:only-of-type {\n",
       "        vertical-align: middle;\n",
       "    }\n",
       "\n",
       "    .dataframe tbody tr th {\n",
       "        vertical-align: top;\n",
       "    }\n",
       "\n",
       "    .dataframe thead th {\n",
       "        text-align: right;\n",
       "    }\n",
       "</style>\n",
       "<table border=\"1\" class=\"dataframe\">\n",
       "  <thead>\n",
       "    <tr style=\"text-align: right;\">\n",
       "      <th></th>\n",
       "      <th>D_REG</th>\n",
       "      <th>BRAND</th>\n",
       "      <th>MODEL</th>\n",
       "      <th>MAKE_YEAR</th>\n",
       "      <th>COLOR</th>\n",
       "      <th>FUEL</th>\n",
       "    </tr>\n",
       "  </thead>\n",
       "  <tbody>\n",
       "    <tr>\n",
       "      <th>0</th>\n",
       "      <td>2013-06-08</td>\n",
       "      <td>FIAT  LINEA</td>\n",
       "      <td>LINEA</td>\n",
       "      <td>2013</td>\n",
       "      <td>СІРИЙ</td>\n",
       "      <td>БЕНЗИН АБО ГАЗ</td>\n",
       "    </tr>\n",
       "    <tr>\n",
       "      <th>1</th>\n",
       "      <td>2013-01-19</td>\n",
       "      <td>HYUNDAI  IX35</td>\n",
       "      <td>IX35</td>\n",
       "      <td>2012</td>\n",
       "      <td>СИНІЙ</td>\n",
       "      <td>БЕНЗИН</td>\n",
       "    </tr>\n",
       "    <tr>\n",
       "      <th>2</th>\n",
       "      <td>2013-02-05</td>\n",
       "      <td>HYUNDAI  ACCENT</td>\n",
       "      <td>ACCENT</td>\n",
       "      <td>2012</td>\n",
       "      <td>СІРИЙ</td>\n",
       "      <td>БЕНЗИН</td>\n",
       "    </tr>\n",
       "    <tr>\n",
       "      <th>3</th>\n",
       "      <td>2013-01-18</td>\n",
       "      <td>ЗАЗ  SENS</td>\n",
       "      <td>SENS</td>\n",
       "      <td>2012</td>\n",
       "      <td>БІЛИЙ</td>\n",
       "      <td>БЕНЗИН</td>\n",
       "    </tr>\n",
       "    <tr>\n",
       "      <th>4</th>\n",
       "      <td>2013-08-30</td>\n",
       "      <td>GEELY  EMGRAND 7</td>\n",
       "      <td>EMGRAND 7</td>\n",
       "      <td>2013</td>\n",
       "      <td>БІЛИЙ</td>\n",
       "      <td>БЕНЗИН</td>\n",
       "    </tr>\n",
       "  </tbody>\n",
       "</table>\n",
       "</div>"
      ]
     },
     "execution_count": 25,
     "metadata": {},
     "output_type": "execute_result"
    }
   ],
   "execution_count": 25
  },
  {
   "cell_type": "code",
   "id": "403e14437d044fd5",
   "metadata": {
    "ExecuteTime": {
     "end_time": "2025-02-11T13:45:39.970928Z",
     "start_time": "2025-02-11T13:45:37.919113Z"
    }
   },
   "source": [
    "frsts.loc[:, 'YEAR'] = frsts['D_REG'].dt.year"
   ],
   "outputs": [],
   "execution_count": 26
  },
  {
   "cell_type": "code",
   "id": "c609f1244df5911c",
   "metadata": {
    "ExecuteTime": {
     "end_time": "2025-02-11T13:45:42.697130Z",
     "start_time": "2025-02-11T13:45:42.401963Z"
    }
   },
   "source": [
    "# Group by 'YEAR' and count the number of rows for each year\n",
    "car_count_by_year = frsts.groupby('YEAR').size()\n",
    "\n",
    "# If you want the result as a DataFrame\n",
    "car_count_by_year_df = pd.DataFrame(car_count_by_year, columns=['Car Count'])"
   ],
   "outputs": [],
   "execution_count": 27
  },
  {
   "cell_type": "code",
   "id": "f7466f0eefbba95f",
   "metadata": {
    "ExecuteTime": {
     "end_time": "2025-02-11T13:45:48.142521Z",
     "start_time": "2025-02-11T13:45:44.708235Z"
    }
   },
   "source": [
    "sns.lineplot(x='YEAR', y='Car Count', marker='o', linestyle='-', color='b', data=car_count_by_year_df)\n",
    "plt.title('Number of Cars First Registered Each Year')\n",
    "plt.xlabel('Year')\n",
    "plt.ylabel('Number of Cars')\n",
    "plt.show()"
   ],
   "outputs": [
    {
     "data": {
      "text/plain": [
       "<Figure size 640x480 with 1 Axes>"
      ],
      "image/png": "[encoded data removed]"
     },
     "metadata": {},
     "output_type": "display_data"
    }
   ],
   "execution_count": 28
  },
  {
   "cell_type": "markdown",
   "id": "9ed78f41271adef9",
   "metadata": {},
   "source": [
    "cars each year by color\n"
   ]
  },
  {
   "cell_type": "code",
   "id": "6f9463b3db826a98",
   "metadata": {
    "ExecuteTime": {
     "end_time": "2025-02-11T13:45:54.656769Z",
     "start_time": "2025-02-11T13:45:52.654762Z"
    }
   },
   "source": [
    "top_colors_by_year = frsts.groupby('YEAR')['COLOR'].value_counts().reset_index(name='Count')\n",
    "pivoted_colors_by_year = top_colors_by_year.pivot(index='COLOR', columns='YEAR', values='Count')\n",
    "pivoted_colors_by_year\n"
   ],
   "outputs": [
    {
     "data": {
      "text/plain": [
       "YEAR             2013     2014     2015     2016     2017     2018      2019  \\\n",
       "COLOR                                                                          \n",
       "БІЛИЙ         29991.0  17785.0  10357.0  16575.0  27885.0  39046.0   57632.0   \n",
       "БЕЖЕВИЙ        7487.0   3594.0   1605.0   1795.0   2001.0   2547.0    4853.0   \n",
       "ЖОВТИЙ          882.0    467.0    337.0    376.0    605.0    802.0    2383.0   \n",
       "ЗЕЛЕНИЙ        3525.0   1254.0   1149.0    824.0    991.0   2134.0   15901.0   \n",
       "КОРИЧНЕВИЙ     6286.0   4495.0   2805.0   4392.0   7937.0   9175.0   12835.0   \n",
       "НЕВИЗНАЧЕНИЙ      NaN      3.0      5.0     11.0      5.0      1.0      11.0   \n",
       "ОРАНЖЕВИЙ       733.0    400.0    213.0    339.0    580.0    902.0    1414.0   \n",
       "СІРИЙ         42478.0  21017.0  16786.0  19301.0  37175.0  60270.0  190839.0   \n",
       "СИНІЙ          9908.0   4871.0   5008.0   5409.0  10282.0  18114.0   69316.0   \n",
       "ФІОЛЕТОВИЙ      694.0    462.0    299.0    228.0    235.0    341.0     881.0   \n",
       "ЧЕРВОНИЙ      11235.0   6018.0   3909.0   4139.0   7078.0  10580.0   25612.0   \n",
       "ЧОРНИЙ        25025.0  13797.0  11422.0  13131.0  24309.0  39681.0  106868.0   \n",
       "\n",
       "YEAR              2020      2021      2022     2023     2024  \n",
       "COLOR                                                         \n",
       "БІЛИЙ          66976.0   85250.0   50241.0  47927.0  52758.0  \n",
       "БЕЖЕВИЙ         4197.0    6608.0    5093.0   3163.0   3114.0  \n",
       "ЖОВТИЙ          1822.0    2270.0    1560.0    711.0    678.0  \n",
       "ЗЕЛЕНИЙ         7010.0   14514.0    9817.0   4196.0   4028.0  \n",
       "КОРИЧНЕВИЙ     12570.0   14652.0    9153.0   6102.0   4604.0  \n",
       "НЕВИЗНАЧЕНИЙ      12.0       7.0       2.0      1.0      1.0  \n",
       "ОРАНЖЕВИЙ       1747.0    2730.0    1277.0    889.0    900.0  \n",
       "СІРИЙ         154659.0  227329.0  170219.0  93696.0  88289.0  \n",
       "СИНІЙ          51759.0   76575.0   53159.0  29418.0  27460.0  \n",
       "ФІОЛЕТОВИЙ       694.0    1215.0     981.0    759.0    563.0  \n",
       "ЧЕРВОНИЙ       25574.0   32459.0   18949.0  11221.0  11166.0  \n",
       "ЧОРНИЙ         95461.0  134614.0  107522.0  61269.0  58740.0  "
      ],
      "text/html": [
       "<div>\n",
       "<style scoped>\n",
       "    .dataframe tbody tr th:only-of-type {\n",
       "        vertical-align: middle;\n",
       "    }\n",
       "\n",
       "    .dataframe tbody tr th {\n",
       "        vertical-align: top;\n",
       "    }\n",
       "\n",
       "    .dataframe thead th {\n",
       "        text-align: right;\n",
       "    }\n",
       "</style>\n",
       "<table border=\"1\" class=\"dataframe\">\n",
       "  <thead>\n",
       "    <tr style=\"text-align: right;\">\n",
       "      <th>YEAR</th>\n",
       "      <th>2013</th>\n",
       "      <th>2014</th>\n",
       "      <th>2015</th>\n",
       "      <th>2016</th>\n",
       "      <th>2017</th>\n",
       "      <th>2018</th>\n",
       "      <th>2019</th>\n",
       "      <th>2020</th>\n",
       "      <th>2021</th>\n",
       "      <th>2022</th>\n",
       "      <th>2023</th>\n",
       "      <th>2024</th>\n",
       "    </tr>\n",
       "    <tr>\n",
       "      <th>COLOR</th>\n",
       "      <th></th>\n",
       "      <th></th>\n",
       "      <th></th>\n",
       "      <th></th>\n",
       "      <th></th>\n",
       "      <th></th>\n",
       "      <th></th>\n",
       "      <th></th>\n",
       "      <th></th>\n",
       "      <th></th>\n",
       "      <th></th>\n",
       "      <th></th>\n",
       "    </tr>\n",
       "  </thead>\n",
       "  <tbody>\n",
       "    <tr>\n",
       "      <th>БІЛИЙ</th>\n",
       "      <td>29991.0</td>\n",
       "      <td>17785.0</td>\n",
       "      <td>10357.0</td>\n",
       "      <td>16575.0</td>\n",
       "      <td>27885.0</td>\n",
       "      <td>39046.0</td>\n",
       "      <td>57632.0</td>\n",
       "      <td>66976.0</td>\n",
       "      <td>85250.0</td>\n",
       "      <td>50241.0</td>\n",
       "      <td>47927.0</td>\n",
       "      <td>52758.0</td>\n",
       "    </tr>\n",
       "    <tr>\n",
       "      <th>БЕЖЕВИЙ</th>\n",
       "      <td>7487.0</td>\n",
       "      <td>3594.0</td>\n",
       "      <td>1605.0</td>\n",
       "      <td>1795.0</td>\n",
       "      <td>2001.0</td>\n",
       "      <td>2547.0</td>\n",
       "      <td>4853.0</td>\n",
       "      <td>4197.0</td>\n",
       "      <td>6608.0</td>\n",
       "      <td>5093.0</td>\n",
       "      <td>3163.0</td>\n",
       "      <td>3114.0</td>\n",
       "    </tr>\n",
       "    <tr>\n",
       "      <th>ЖОВТИЙ</th>\n",
       "      <td>882.0</td>\n",
       "      <td>467.0</td>\n",
       "      <td>337.0</td>\n",
       "      <td>376.0</td>\n",
       "      <td>605.0</td>\n",
       "      <td>802.0</td>\n",
       "      <td>2383.0</td>\n",
       "      <td>1822.0</td>\n",
       "      <td>2270.0</td>\n",
       "      <td>1560.0</td>\n",
       "      <td>711.0</td>\n",
       "      <td>678.0</td>\n",
       "    </tr>\n",
       "    <tr>\n",
       "      <th>ЗЕЛЕНИЙ</th>\n",
       "      <td>3525.0</td>\n",
       "      <td>1254.0</td>\n",
       "      <td>1149.0</td>\n",
       "      <td>824.0</td>\n",
       "      <td>991.0</td>\n",
       "      <td>2134.0</td>\n",
       "      <td>15901.0</td>\n",
       "      <td>7010.0</td>\n",
       "      <td>14514.0</td>\n",
       "      <td>9817.0</td>\n",
       "      <td>4196.0</td>\n",
       "      <td>4028.0</td>\n",
       "    </tr>\n",
       "    <tr>\n",
       "      <th>КОРИЧНЕВИЙ</th>\n",
       "      <td>6286.0</td>\n",
       "      <td>4495.0</td>\n",
       "      <td>2805.0</td>\n",
       "      <td>4392.0</td>\n",
       "      <td>7937.0</td>\n",
       "      <td>9175.0</td>\n",
       "      <td>12835.0</td>\n",
       "      <td>12570.0</td>\n",
       "      <td>14652.0</td>\n",
       "      <td>9153.0</td>\n",
       "      <td>6102.0</td>\n",
       "      <td>4604.0</td>\n",
       "    </tr>\n",
       "    <tr>\n",
       "      <th>НЕВИЗНАЧЕНИЙ</th>\n",
       "      <td>NaN</td>\n",
       "      <td>3.0</td>\n",
       "      <td>5.0</td>\n",
       "      <td>11.0</td>\n",
       "      <td>5.0</td>\n",
       "      <td>1.0</td>\n",
       "      <td>11.0</td>\n",
       "      <td>12.0</td>\n",
       "      <td>7.0</td>\n",
       "      <td>2.0</td>\n",
       "      <td>1.0</td>\n",
       "      <td>1.0</td>\n",
       "    </tr>\n",
       "    <tr>\n",
       "      <th>ОРАНЖЕВИЙ</th>\n",
       "      <td>733.0</td>\n",
       "      <td>400.0</td>\n",
       "      <td>213.0</td>\n",
       "      <td>339.0</td>\n",
       "      <td>580.0</td>\n",
       "      <td>902.0</td>\n",
       "      <td>1414.0</td>\n",
       "      <td>1747.0</td>\n",
       "      <td>2730.0</td>\n",
       "      <td>1277.0</td>\n",
       "      <td>889.0</td>\n",
       "      <td>900.0</td>\n",
       "    </tr>\n",
       "    <tr>\n",
       "      <th>СІРИЙ</th>\n",
       "      <td>42478.0</td>\n",
       "      <td>21017.0</td>\n",
       "      <td>16786.0</td>\n",
       "      <td>19301.0</td>\n",
       "      <td>37175.0</td>\n",
       "      <td>60270.0</td>\n",
       "      <td>190839.0</td>\n",
       "      <td>154659.0</td>\n",
       "      <td>227329.0</td>\n",
       "      <td>170219.0</td>\n",
       "      <td>93696.0</td>\n",
       "      <td>88289.0</td>\n",
       "    </tr>\n",
       "    <tr>\n",
       "      <th>СИНІЙ</th>\n",
       "      <td>9908.0</td>\n",
       "      <td>4871.0</td>\n",
       "      <td>5008.0</td>\n",
       "      <td>5409.0</td>\n",
       "      <td>10282.0</td>\n",
       "      <td>18114.0</td>\n",
       "      <td>69316.0</td>\n",
       "      <td>51759.0</td>\n",
       "      <td>76575.0</td>\n",
       "      <td>53159.0</td>\n",
       "      <td>29418.0</td>\n",
       "      <td>27460.0</td>\n",
       "    </tr>\n",
       "    <tr>\n",
       "      <th>ФІОЛЕТОВИЙ</th>\n",
       "      <td>694.0</td>\n",
       "      <td>462.0</td>\n",
       "      <td>299.0</td>\n",
       "      <td>228.0</td>\n",
       "      <td>235.0</td>\n",
       "      <td>341.0</td>\n",
       "      <td>881.0</td>\n",
       "      <td>694.0</td>\n",
       "      <td>1215.0</td>\n",
       "      <td>981.0</td>\n",
       "      <td>759.0</td>\n",
       "      <td>563.0</td>\n",
       "    </tr>\n",
       "    <tr>\n",
       "      <th>ЧЕРВОНИЙ</th>\n",
       "      <td>11235.0</td>\n",
       "      <td>6018.0</td>\n",
       "      <td>3909.0</td>\n",
       "      <td>4139.0</td>\n",
       "      <td>7078.0</td>\n",
       "      <td>10580.0</td>\n",
       "      <td>25612.0</td>\n",
       "      <td>25574.0</td>\n",
       "      <td>32459.0</td>\n",
       "      <td>18949.0</td>\n",
       "      <td>11221.0</td>\n",
       "      <td>11166.0</td>\n",
       "    </tr>\n",
       "    <tr>\n",
       "      <th>ЧОРНИЙ</th>\n",
       "      <td>25025.0</td>\n",
       "      <td>13797.0</td>\n",
       "      <td>11422.0</td>\n",
       "      <td>13131.0</td>\n",
       "      <td>24309.0</td>\n",
       "      <td>39681.0</td>\n",
       "      <td>106868.0</td>\n",
       "      <td>95461.0</td>\n",
       "      <td>134614.0</td>\n",
       "      <td>107522.0</td>\n",
       "      <td>61269.0</td>\n",
       "      <td>58740.0</td>\n",
       "    </tr>\n",
       "  </tbody>\n",
       "</table>\n",
       "</div>"
      ]
     },
     "execution_count": 29,
     "metadata": {},
     "output_type": "execute_result"
    }
   ],
   "execution_count": 29
  },
  {
   "cell_type": "code",
   "id": "a0cab49c522269ff",
   "metadata": {
    "ExecuteTime": {
     "end_time": "2025-02-11T13:46:02.505976Z",
     "start_time": "2025-02-11T13:46:02.488671Z"
    }
   },
   "source": [
    "pivoted_colors_by_year.to_csv('colors_by_year.csv')"
   ],
   "outputs": [],
   "execution_count": 30
  },
  {
   "cell_type": "markdown",
   "id": "a7d5264938865a1f",
   "metadata": {},
   "source": [
    "\n",
    "Brands by year"
   ]
  },
  {
   "cell_type": "code",
   "id": "7becc3326bd207eb",
   "metadata": {
    "ExecuteTime": {
     "end_time": "2025-02-11T13:46:08.256952Z",
     "start_time": "2025-02-11T13:46:07.760416Z"
    }
   },
   "source": [
    "frsts[frsts['YEAR']==2013][['BRAND', 'MODEL']].value_counts().head(10)"
   ],
   "outputs": [
    {
     "data": {
      "text/plain": [
       "BRAND             MODEL   \n",
       "HYUNDAI  ACCENT   ACCENT      3495\n",
       "ЗАЗ  SENS         SENS        3186\n",
       "KIA  RIO          RIO         2968\n",
       "RENAULT  LOGAN    LOGAN       2584\n",
       "ЗАЗ  VIDA         VIDA        2433\n",
       "VOLKSWAGEN  POLO  POLO        2169\n",
       "KIA  SPORTAGE     SPORTAGE    1973\n",
       "ЗАЗ  LANOS        LANOS       1919\n",
       "NISSAN  QASHQAI   QASHQAI     1911\n",
       "FORD  FOCUS       FOCUS       1896\n",
       "Name: count, dtype: int64"
      ]
     },
     "execution_count": 31,
     "metadata": {},
     "output_type": "execute_result"
    }
   ],
   "execution_count": 31
  },
  {
   "cell_type": "code",
   "id": "33e00147154df443",
   "metadata": {
    "ExecuteTime": {
     "end_time": "2025-02-11T13:46:16.273568Z",
     "start_time": "2025-02-11T13:46:11.372995Z"
    }
   },
   "source": [
    "#only the first word of 'wrong' brands will be a brand \n",
    "frsts.loc[:,'brand_only'] = frsts['BRAND'].apply(lambda x: x.split()[0])"
   ],
   "outputs": [],
   "execution_count": 32
  },
  {
   "cell_type": "code",
   "id": "51ed69bdbe8d8875",
   "metadata": {
    "ExecuteTime": {
     "end_time": "2025-02-11T13:46:29.658163Z",
     "start_time": "2025-02-11T13:46:29.316745Z"
    }
   },
   "source": [
    "frsts['brand_only'].nunique()"
   ],
   "outputs": [
    {
     "data": {
      "text/plain": [
       "246"
      ]
     },
     "execution_count": 33,
     "metadata": {},
     "output_type": "execute_result"
    }
   ],
   "execution_count": 33
  },
  {
   "metadata": {
    "ExecuteTime": {
     "end_time": "2025-02-11T13:49:42.881423Z",
     "start_time": "2025-02-11T13:49:41.298801Z"
    }
   },
   "cell_type": "code",
   "source": "frsts['brand_only'].value_counts().tail(10)",
   "id": "4683337dac082d22",
   "outputs": [
    {
     "data": {
      "text/plain": [
       "brand_only\n",
       "COWIN           1\n",
       "FREIGHTLINER    1\n",
       "LEYLAND         1\n",
       "СМЗ             1\n",
       "OLTCIT          1\n",
       "KARRY           1\n",
       "GEOMETRY        1\n",
       "ELBIL           1\n",
       "BEIJING         1\n",
       "TIANMA          1\n",
       "Name: count, dtype: int64"
      ]
     },
     "execution_count": 34,
     "metadata": {},
     "output_type": "execute_result"
    }
   ],
   "execution_count": 34
  },
  {
   "metadata": {
    "ExecuteTime": {
     "end_time": "2025-02-11T13:50:09.207296Z",
     "start_time": "2025-02-11T13:50:07.844915Z"
    }
   },
   "cell_type": "code",
   "source": [
    "brands_by_year_all = frsts.groupby('YEAR')['brand_only'].value_counts().reset_index(name='Count')\n",
    "\n",
    "# Rank the brands within each year \n",
    "brands_by_year_all.loc[:,'rank'] = brands_by_year_all.groupby('YEAR')['Count'].rank(method='dense', ascending=False)\n",
    "\n",
    "# Filter out the top 10 brands for each year\n",
    "top_brands_df = brands_by_year_all[brands_by_year_all['rank'] <= 10]\n",
    "\n",
    "# Sorting by year and rank for better readability\n",
    "top_brands_df = top_brands_df.sort_values(by=['YEAR', 'rank'])\n",
    "\n",
    "# Reset index for the final DataFrame\n",
    "top_brands_df.reset_index(drop=True, inplace=True)"
   ],
   "id": "601934333e00d20",
   "outputs": [],
   "execution_count": 35
  },
  {
   "metadata": {
    "ExecuteTime": {
     "end_time": "2025-02-11T13:50:42.041759Z",
     "start_time": "2025-02-11T13:50:42.032287Z"
    }
   },
   "cell_type": "code",
   "source": [
    "#same pivoting as with colors \n",
    "pivoted_brands_by_year_all = top_brands_df.pivot(index='brand_only', columns='YEAR', values='rank')"
   ],
   "id": "f9578a93dfcc77e6",
   "outputs": [],
   "execution_count": 36
  },
  {
   "metadata": {
    "ExecuteTime": {
     "end_time": "2025-02-11T13:50:53.735699Z",
     "start_time": "2025-02-11T13:50:53.676741Z"
    }
   },
   "cell_type": "code",
   "source": "pivoted_brands_by_year_all",
   "id": "afb2966abdac1c4e",
   "outputs": [
    {
     "data": {
      "text/plain": [
       "YEAR           2013  2014  2015  2016  2017  2018  2019  2020  2021  2022  \\\n",
       "brand_only                                                                  \n",
       "AUDI            NaN   NaN   NaN   NaN   NaN  10.0   6.0   NaN   8.0   6.0   \n",
       "BMW             NaN   NaN   NaN   7.0  10.0   9.0   7.0   NaN   NaN   7.0   \n",
       "FORD           10.0   8.0   8.0   9.0   9.0   5.0   5.0   3.0   3.0   3.0   \n",
       "GEELY           3.0   2.0   NaN   NaN   NaN   NaN   NaN   NaN   NaN   NaN   \n",
       "HYUNDAI         1.0   5.0   6.0  10.0   NaN   8.0  10.0   5.0   6.0   NaN   \n",
       "KIA             7.0  10.0   9.0   5.0   6.0   NaN   NaN   9.0  10.0   NaN   \n",
       "MAZDA           NaN   NaN   7.0   NaN   NaN   NaN   NaN  10.0   NaN   NaN   \n",
       "MERCEDES-BENZ   NaN   NaN  10.0   6.0   7.0   NaN   9.0   NaN   NaN   8.0   \n",
       "NISSAN          5.0   7.0   5.0   4.0   5.0   6.0   NaN   8.0   7.0   9.0   \n",
       "OPEL            NaN   NaN   NaN   NaN   8.0   7.0   3.0   6.0   5.0   4.0   \n",
       "RENAULT         8.0   3.0   1.0   1.0   1.0   2.0   2.0   2.0   2.0   2.0   \n",
       "SKODA           NaN   9.0   NaN   8.0   3.0   3.0   4.0   4.0   4.0   5.0   \n",
       "SMART           NaN   NaN   4.0   NaN   NaN   NaN   NaN   NaN   NaN   NaN   \n",
       "TESLA           NaN   NaN   NaN   NaN   NaN   NaN   NaN   NaN   NaN   NaN   \n",
       "TOYOTA          2.0   1.0   3.0   3.0   4.0   4.0   8.0   7.0   9.0  10.0   \n",
       "VOLKSWAGEN      6.0   6.0   2.0   2.0   2.0   1.0   1.0   1.0   1.0   1.0   \n",
       "ВАЗ             9.0   NaN   NaN   NaN   NaN   NaN   NaN   NaN   NaN   NaN   \n",
       "ЗАЗ             4.0   4.0   NaN   NaN   NaN   NaN   NaN   NaN   NaN   NaN   \n",
       "\n",
       "YEAR           2023  2024  \n",
       "brand_only                 \n",
       "AUDI            5.0   2.0  \n",
       "BMW             7.0   5.0  \n",
       "FORD            6.0   7.0  \n",
       "GEELY           NaN   NaN  \n",
       "HYUNDAI         9.0   8.0  \n",
       "KIA             NaN   NaN  \n",
       "MAZDA           NaN   NaN  \n",
       "MERCEDES-BENZ   NaN   NaN  \n",
       "NISSAN          4.0   3.0  \n",
       "OPEL           10.0   NaN  \n",
       "RENAULT         2.0   4.0  \n",
       "SKODA           3.0   6.0  \n",
       "SMART           NaN   NaN  \n",
       "TESLA           NaN   9.0  \n",
       "TOYOTA          8.0  10.0  \n",
       "VOLKSWAGEN      1.0   1.0  \n",
       "ВАЗ             NaN   NaN  \n",
       "ЗАЗ             NaN   NaN  "
      ],
      "text/html": [
       "<div>\n",
       "<style scoped>\n",
       "    .dataframe tbody tr th:only-of-type {\n",
       "        vertical-align: middle;\n",
       "    }\n",
       "\n",
       "    .dataframe tbody tr th {\n",
       "        vertical-align: top;\n",
       "    }\n",
       "\n",
       "    .dataframe thead th {\n",
       "        text-align: right;\n",
       "    }\n",
       "</style>\n",
       "<table border=\"1\" class=\"dataframe\">\n",
       "  <thead>\n",
       "    <tr style=\"text-align: right;\">\n",
       "      <th>YEAR</th>\n",
       "      <th>2013</th>\n",
       "      <th>2014</th>\n",
       "      <th>2015</th>\n",
       "      <th>2016</th>\n",
       "      <th>2017</th>\n",
       "      <th>2018</th>\n",
       "      <th>2019</th>\n",
       "      <th>2020</th>\n",
       "      <th>2021</th>\n",
       "      <th>2022</th>\n",
       "      <th>2023</th>\n",
       "      <th>2024</th>\n",
       "    </tr>\n",
       "    <tr>\n",
       "      <th>brand_only</th>\n",
       "      <th></th>\n",
       "      <th></th>\n",
       "      <th></th>\n",
       "      <th></th>\n",
       "      <th></th>\n",
       "      <th></th>\n",
       "      <th></th>\n",
       "      <th></th>\n",
       "      <th></th>\n",
       "      <th></th>\n",
       "      <th></th>\n",
       "      <th></th>\n",
       "    </tr>\n",
       "  </thead>\n",
       "  <tbody>\n",
       "    <tr>\n",
       "      <th>AUDI</th>\n",
       "      <td>NaN</td>\n",
       "      <td>NaN</td>\n",
       "      <td>NaN</td>\n",
       "      <td>NaN</td>\n",
       "      <td>NaN</td>\n",
       "      <td>10.0</td>\n",
       "      <td>6.0</td>\n",
       "      <td>NaN</td>\n",
       "      <td>8.0</td>\n",
       "      <td>6.0</td>\n",
       "      <td>5.0</td>\n",
       "      <td>2.0</td>\n",
       "    </tr>\n",
       "    <tr>\n",
       "      <th>BMW</th>\n",
       "      <td>NaN</td>\n",
       "      <td>NaN</td>\n",
       "      <td>NaN</td>\n",
       "      <td>7.0</td>\n",
       "      <td>10.0</td>\n",
       "      <td>9.0</td>\n",
       "      <td>7.0</td>\n",
       "      <td>NaN</td>\n",
       "      <td>NaN</td>\n",
       "      <td>7.0</td>\n",
       "      <td>7.0</td>\n",
       "      <td>5.0</td>\n",
       "    </tr>\n",
       "    <tr>\n",
       "      <th>FORD</th>\n",
       "      <td>10.0</td>\n",
       "      <td>8.0</td>\n",
       "      <td>8.0</td>\n",
       "      <td>9.0</td>\n",
       "      <td>9.0</td>\n",
       "      <td>5.0</td>\n",
       "      <td>5.0</td>\n",
       "      <td>3.0</td>\n",
       "      <td>3.0</td>\n",
       "      <td>3.0</td>\n",
       "      <td>6.0</td>\n",
       "      <td>7.0</td>\n",
       "    </tr>\n",
       "    <tr>\n",
       "      <th>GEELY</th>\n",
       "      <td>3.0</td>\n",
       "      <td>2.0</td>\n",
       "      <td>NaN</td>\n",
       "      <td>NaN</td>\n",
       "      <td>NaN</td>\n",
       "      <td>NaN</td>\n",
       "      <td>NaN</td>\n",
       "      <td>NaN</td>\n",
       "      <td>NaN</td>\n",
       "      <td>NaN</td>\n",
       "      <td>NaN</td>\n",
       "      <td>NaN</td>\n",
       "    </tr>\n",
       "    <tr>\n",
       "      <th>HYUNDAI</th>\n",
       "      <td>1.0</td>\n",
       "      <td>5.0</td>\n",
       "      <td>6.0</td>\n",
       "      <td>10.0</td>\n",
       "      <td>NaN</td>\n",
       "      <td>8.0</td>\n",
       "      <td>10.0</td>\n",
       "      <td>5.0</td>\n",
       "      <td>6.0</td>\n",
       "      <td>NaN</td>\n",
       "      <td>9.0</td>\n",
       "      <td>8.0</td>\n",
       "    </tr>\n",
       "    <tr>\n",
       "      <th>KIA</th>\n",
       "      <td>7.0</td>\n",
       "      <td>10.0</td>\n",
       "      <td>9.0</td>\n",
       "      <td>5.0</td>\n",
       "      <td>6.0</td>\n",
       "      <td>NaN</td>\n",
       "      <td>NaN</td>\n",
       "      <td>9.0</td>\n",
       "      <td>10.0</td>\n",
       "      <td>NaN</td>\n",
       "      <td>NaN</td>\n",
       "      <td>NaN</td>\n",
       "    </tr>\n",
       "    <tr>\n",
       "      <th>MAZDA</th>\n",
       "      <td>NaN</td>\n",
       "      <td>NaN</td>\n",
       "      <td>7.0</td>\n",
       "      <td>NaN</td>\n",
       "      <td>NaN</td>\n",
       "      <td>NaN</td>\n",
       "      <td>NaN</td>\n",
       "      <td>10.0</td>\n",
       "      <td>NaN</td>\n",
       "      <td>NaN</td>\n",
       "      <td>NaN</td>\n",
       "      <td>NaN</td>\n",
       "    </tr>\n",
       "    <tr>\n",
       "      <th>MERCEDES-BENZ</th>\n",
       "      <td>NaN</td>\n",
       "      <td>NaN</td>\n",
       "      <td>10.0</td>\n",
       "      <td>6.0</td>\n",
       "      <td>7.0</td>\n",
       "      <td>NaN</td>\n",
       "      <td>9.0</td>\n",
       "      <td>NaN</td>\n",
       "      <td>NaN</td>\n",
       "      <td>8.0</td>\n",
       "      <td>NaN</td>\n",
       "      <td>NaN</td>\n",
       "    </tr>\n",
       "    <tr>\n",
       "      <th>NISSAN</th>\n",
       "      <td>5.0</td>\n",
       "      <td>7.0</td>\n",
       "      <td>5.0</td>\n",
       "      <td>4.0</td>\n",
       "      <td>5.0</td>\n",
       "      <td>6.0</td>\n",
       "      <td>NaN</td>\n",
       "      <td>8.0</td>\n",
       "      <td>7.0</td>\n",
       "      <td>9.0</td>\n",
       "      <td>4.0</td>\n",
       "      <td>3.0</td>\n",
       "    </tr>\n",
       "    <tr>\n",
       "      <th>OPEL</th>\n",
       "      <td>NaN</td>\n",
       "      <td>NaN</td>\n",
       "      <td>NaN</td>\n",
       "      <td>NaN</td>\n",
       "      <td>8.0</td>\n",
       "      <td>7.0</td>\n",
       "      <td>3.0</td>\n",
       "      <td>6.0</td>\n",
       "      <td>5.0</td>\n",
       "      <td>4.0</td>\n",
       "      <td>10.0</td>\n",
       "      <td>NaN</td>\n",
       "    </tr>\n",
       "    <tr>\n",
       "      <th>RENAULT</th>\n",
       "      <td>8.0</td>\n",
       "      <td>3.0</td>\n",
       "      <td>1.0</td>\n",
       "      <td>1.0</td>\n",
       "      <td>1.0</td>\n",
       "      <td>2.0</td>\n",
       "      <td>2.0</td>\n",
       "      <td>2.0</td>\n",
       "      <td>2.0</td>\n",
       "      <td>2.0</td>\n",
       "      <td>2.0</td>\n",
       "      <td>4.0</td>\n",
       "    </tr>\n",
       "    <tr>\n",
       "      <th>SKODA</th>\n",
       "      <td>NaN</td>\n",
       "      <td>9.0</td>\n",
       "      <td>NaN</td>\n",
       "      <td>8.0</td>\n",
       "      <td>3.0</td>\n",
       "      <td>3.0</td>\n",
       "      <td>4.0</td>\n",
       "      <td>4.0</td>\n",
       "      <td>4.0</td>\n",
       "      <td>5.0</td>\n",
       "      <td>3.0</td>\n",
       "      <td>6.0</td>\n",
       "    </tr>\n",
       "    <tr>\n",
       "      <th>SMART</th>\n",
       "      <td>NaN</td>\n",
       "      <td>NaN</td>\n",
       "      <td>4.0</td>\n",
       "      <td>NaN</td>\n",
       "      <td>NaN</td>\n",
       "      <td>NaN</td>\n",
       "      <td>NaN</td>\n",
       "      <td>NaN</td>\n",
       "      <td>NaN</td>\n",
       "      <td>NaN</td>\n",
       "      <td>NaN</td>\n",
       "      <td>NaN</td>\n",
       "    </tr>\n",
       "    <tr>\n",
       "      <th>TESLA</th>\n",
       "      <td>NaN</td>\n",
       "      <td>NaN</td>\n",
       "      <td>NaN</td>\n",
       "      <td>NaN</td>\n",
       "      <td>NaN</td>\n",
       "      <td>NaN</td>\n",
       "      <td>NaN</td>\n",
       "      <td>NaN</td>\n",
       "      <td>NaN</td>\n",
       "      <td>NaN</td>\n",
       "      <td>NaN</td>\n",
       "      <td>9.0</td>\n",
       "    </tr>\n",
       "    <tr>\n",
       "      <th>TOYOTA</th>\n",
       "      <td>2.0</td>\n",
       "      <td>1.0</td>\n",
       "      <td>3.0</td>\n",
       "      <td>3.0</td>\n",
       "      <td>4.0</td>\n",
       "      <td>4.0</td>\n",
       "      <td>8.0</td>\n",
       "      <td>7.0</td>\n",
       "      <td>9.0</td>\n",
       "      <td>10.0</td>\n",
       "      <td>8.0</td>\n",
       "      <td>10.0</td>\n",
       "    </tr>\n",
       "    <tr>\n",
       "      <th>VOLKSWAGEN</th>\n",
       "      <td>6.0</td>\n",
       "      <td>6.0</td>\n",
       "      <td>2.0</td>\n",
       "      <td>2.0</td>\n",
       "      <td>2.0</td>\n",
       "      <td>1.0</td>\n",
       "      <td>1.0</td>\n",
       "      <td>1.0</td>\n",
       "      <td>1.0</td>\n",
       "      <td>1.0</td>\n",
       "      <td>1.0</td>\n",
       "      <td>1.0</td>\n",
       "    </tr>\n",
       "    <tr>\n",
       "      <th>ВАЗ</th>\n",
       "      <td>9.0</td>\n",
       "      <td>NaN</td>\n",
       "      <td>NaN</td>\n",
       "      <td>NaN</td>\n",
       "      <td>NaN</td>\n",
       "      <td>NaN</td>\n",
       "      <td>NaN</td>\n",
       "      <td>NaN</td>\n",
       "      <td>NaN</td>\n",
       "      <td>NaN</td>\n",
       "      <td>NaN</td>\n",
       "      <td>NaN</td>\n",
       "    </tr>\n",
       "    <tr>\n",
       "      <th>ЗАЗ</th>\n",
       "      <td>4.0</td>\n",
       "      <td>4.0</td>\n",
       "      <td>NaN</td>\n",
       "      <td>NaN</td>\n",
       "      <td>NaN</td>\n",
       "      <td>NaN</td>\n",
       "      <td>NaN</td>\n",
       "      <td>NaN</td>\n",
       "      <td>NaN</td>\n",
       "      <td>NaN</td>\n",
       "      <td>NaN</td>\n",
       "      <td>NaN</td>\n",
       "    </tr>\n",
       "  </tbody>\n",
       "</table>\n",
       "</div>"
      ]
     },
     "execution_count": 37,
     "metadata": {},
     "output_type": "execute_result"
    }
   ],
   "execution_count": 37
  },
  {
   "metadata": {
    "ExecuteTime": {
     "end_time": "2025-02-11T13:51:15.880255Z",
     "start_time": "2025-02-11T13:51:15.870049Z"
    }
   },
   "cell_type": "code",
   "source": "pivoted_brands_by_year_all.to_csv('brands_by_year_all.csv')",
   "id": "4590edf84b73da2",
   "outputs": [],
   "execution_count": 38
  },
  {
   "metadata": {
    "ExecuteTime": {
     "end_time": "2025-02-11T13:51:26.679890Z",
     "start_time": "2025-02-11T13:51:26.667088Z"
    }
   },
   "cell_type": "code",
   "source": [
    "#with counts instead of rating for vizualization\n",
    "pivoted_brands_counts = top_brands_df.pivot(index='brand_only', columns='YEAR', values='Count')\n",
    "pivoted_brands_counts.to_csv('pivoted_brands_counts.csv')"
   ],
   "id": "f3fe755d6c0dbbc1",
   "outputs": [],
   "execution_count": 39
  },
  {
   "metadata": {
    "ExecuteTime": {
     "end_time": "2025-02-11T13:51:36.708034Z",
     "start_time": "2025-02-11T13:51:36.696802Z"
    }
   },
   "cell_type": "code",
   "source": [
    "#unpivoted table for heatmap\n",
    "top_brands_df.to_csv('top_brands_heatmap.csv')"
   ],
   "id": "a691ad9e0edaf387",
   "outputs": [],
   "execution_count": 40
  },
  {
   "metadata": {},
   "cell_type": "markdown",
   "source": "Share of electric cars",
   "id": "c2f05f2363c70b71"
  },
  {
   "metadata": {
    "ExecuteTime": {
     "end_time": "2025-02-11T13:51:59.430775Z",
     "start_time": "2025-02-11T13:51:57.883608Z"
    }
   },
   "cell_type": "code",
   "source": [
    "fuel_by_year = frsts.groupby(['YEAR', 'FUEL']).size().reset_index(name='Count')\n",
    "\n",
    "pivoted_fuel_by_year = fuel_by_year.pivot(index='FUEL', columns='YEAR', values='Count')\n",
    "\n",
    "pivoted_fuel_by_year['electro'] = pivoted_fuel_by_year.index.str.contains('ЕЛЕКТРО')\n",
    "electro = pivoted_fuel_by_year.groupby('electro').sum()\n",
    "electro = electro.T\n",
    "electro"
   ],
   "id": "549e862394f97a5c",
   "outputs": [
    {
     "data": {
      "text/plain": [
       "electro     False    True \n",
       "YEAR                      \n",
       "2013     138061.0     83.0\n",
       "2014      73925.0    217.0\n",
       "2015      53178.0    695.0\n",
       "2016      64644.0   1862.0\n",
       "2017     114755.0   4314.0\n",
       "2018     174842.0   8732.0\n",
       "2019     474533.0  13961.0\n",
       "2020     405908.0  16537.0\n",
       "2021     575378.0  22801.0\n",
       "2022     406082.0  21872.0\n",
       "2023     210426.0  48922.0\n",
       "2024     188727.0  63570.0"
      ],
      "text/html": [
       "<div>\n",
       "<style scoped>\n",
       "    .dataframe tbody tr th:only-of-type {\n",
       "        vertical-align: middle;\n",
       "    }\n",
       "\n",
       "    .dataframe tbody tr th {\n",
       "        vertical-align: top;\n",
       "    }\n",
       "\n",
       "    .dataframe thead th {\n",
       "        text-align: right;\n",
       "    }\n",
       "</style>\n",
       "<table border=\"1\" class=\"dataframe\">\n",
       "  <thead>\n",
       "    <tr style=\"text-align: right;\">\n",
       "      <th>electro</th>\n",
       "      <th>False</th>\n",
       "      <th>True</th>\n",
       "    </tr>\n",
       "    <tr>\n",
       "      <th>YEAR</th>\n",
       "      <th></th>\n",
       "      <th></th>\n",
       "    </tr>\n",
       "  </thead>\n",
       "  <tbody>\n",
       "    <tr>\n",
       "      <th>2013</th>\n",
       "      <td>138061.0</td>\n",
       "      <td>83.0</td>\n",
       "    </tr>\n",
       "    <tr>\n",
       "      <th>2014</th>\n",
       "      <td>73925.0</td>\n",
       "      <td>217.0</td>\n",
       "    </tr>\n",
       "    <tr>\n",
       "      <th>2015</th>\n",
       "      <td>53178.0</td>\n",
       "      <td>695.0</td>\n",
       "    </tr>\n",
       "    <tr>\n",
       "      <th>2016</th>\n",
       "      <td>64644.0</td>\n",
       "      <td>1862.0</td>\n",
       "    </tr>\n",
       "    <tr>\n",
       "      <th>2017</th>\n",
       "      <td>114755.0</td>\n",
       "      <td>4314.0</td>\n",
       "    </tr>\n",
       "    <tr>\n",
       "      <th>2018</th>\n",
       "      <td>174842.0</td>\n",
       "      <td>8732.0</td>\n",
       "    </tr>\n",
       "    <tr>\n",
       "      <th>2019</th>\n",
       "      <td>474533.0</td>\n",
       "      <td>13961.0</td>\n",
       "    </tr>\n",
       "    <tr>\n",
       "      <th>2020</th>\n",
       "      <td>405908.0</td>\n",
       "      <td>16537.0</td>\n",
       "    </tr>\n",
       "    <tr>\n",
       "      <th>2021</th>\n",
       "      <td>575378.0</td>\n",
       "      <td>22801.0</td>\n",
       "    </tr>\n",
       "    <tr>\n",
       "      <th>2022</th>\n",
       "      <td>406082.0</td>\n",
       "      <td>21872.0</td>\n",
       "    </tr>\n",
       "    <tr>\n",
       "      <th>2023</th>\n",
       "      <td>210426.0</td>\n",
       "      <td>48922.0</td>\n",
       "    </tr>\n",
       "    <tr>\n",
       "      <th>2024</th>\n",
       "      <td>188727.0</td>\n",
       "      <td>63570.0</td>\n",
       "    </tr>\n",
       "  </tbody>\n",
       "</table>\n",
       "</div>"
      ]
     },
     "execution_count": 41,
     "metadata": {},
     "output_type": "execute_result"
    }
   ],
   "execution_count": 41
  },
  {
   "metadata": {
    "ExecuteTime": {
     "end_time": "2025-02-11T13:52:50.840267Z",
     "start_time": "2025-02-11T13:52:50.465334Z"
    }
   },
   "cell_type": "code",
   "source": [
    "\n",
    "electro['year_total'] = electro[True] + electro[False]\n",
    "electro['share_true'] = electro[True] / electro['year_total']\n",
    "plt.bar(electro.index, electro['share_true'] * 100, color='blue', alpha=0.7)"
   ],
   "id": "a29f53087e4acf32",
   "outputs": [
    {
     "data": {
      "text/plain": [
       "<BarContainer object of 12 artists>"
      ]
     },
     "execution_count": 42,
     "metadata": {},
     "output_type": "execute_result"
    },
    {
     "data": {
      "text/plain": [
       "<Figure size 640x480 with 1 Axes>"
      ],
      "image/png": "[encoded data removed]"
     },
     "metadata": {},
     "output_type": "display_data"
    }
   ],
   "execution_count": 42
  }
 ],
 "metadata": {
  "kernelspec": {
   "display_name": "Python 3",
   "language": "python",
   "name": "python3"
  },
  "language_info": {
   "codemirror_mode": {
    "name": "ipython",
    "version": 2
   },
   "file_extension": ".py",
   "mimetype": "text/x-python",
   "name": "python",
   "nbconvert_exporter": "python",
   "pygments_lexer": "ipython2",
   "version": "2.7.6"
  }
 },
 "nbformat": 4,
 "nbformat_minor": 5
}
